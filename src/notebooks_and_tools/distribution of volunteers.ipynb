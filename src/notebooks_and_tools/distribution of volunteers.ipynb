{
 "cells": [
  {
   "cell_type": "markdown",
   "id": "8c917a90-3de9-4caa-9034-cc994c14635d",
   "metadata": {},
   "source": [
    "## This code generates the distribution of volunteers per image"
   ]
  },
  {
   "cell_type": "code",
   "execution_count": 2,
   "id": "e878c69f-a78e-4ba5-83b2-54bb6526eb77",
   "metadata": {},
   "outputs": [],
   "source": [
    "import os\n",
    "import seaborn as sns"
   ]
  },
  {
   "cell_type": "code",
   "execution_count": 3,
   "id": "ebcd2e76-a3a0-4e91-a18c-e1174ca1d4f1",
   "metadata": {},
   "outputs": [
    {
     "name": "stdout",
     "output_type": "stream",
     "text": [
      "[4, 4, 4, 5, 2, 2, 7, 3, 2, 3, 3, 6, 6, 5, 5, 3, 6, 4, 5, 3, 4, 4, 3, 5, 4, 3, 4, 5, 2, 3, 2, 5, 3, 4, 5, 3, 4, 2, 4, 3, 3, 6, 4, 6, 5, 2, 2, 2, 5, 4, 2, 2, 6, 3, 4, 2, 3, 5, 3, 3, 4, 5, 4, 3, 4, 3, 2, 3, 5, 3, 7, 5, 3, 5, 2, 4, 3, 4, 4, 4, 5, 2, 3, 5, 6, 4, 4, 6, 4, 4, 2, 6, 3, 3, 4, 4, 5, 2, 2, 2, 7, 4, 4, 4, 2, 3, 3, 4, 3, 4, 3, 5, 7, 5, 5, 3, 4, 2, 4, 3, 3, 5, 5, 7, 3, 2, 3, 3, 7, 3, 5, 6, 3, 4, 3, 3, 4, 6, 2, 5, 3, 5, 4, 3, 3, 4, 7, 6, 6, 4, 4, 2, 3, 3, 3, 4, 4, 3, 5, 4, 3, 5, 2, 2, 4, 6, 7, 3, 2, 7, 3, 4, 2, 4, 2, 2, 3, 6, 3, 2, 5, 4, 3, 3, 5, 4, 3, 4, 4, 5, 2, 3, 3, 2, 4, 7, 4, 3, 3, 3, 5, 4, 5, 4, 5, 4, 7, 3, 4, 5, 4, 4, 3, 3, 5, 6, 5, 3, 2, 3, 5, 5, 7, 7, 3, 3, 2, 2, 2, 2, 2, 3, 5, 3, 4, 5, 4, 6, 4, 5, 9, 4, 8, 6, 4, 4, 4, 3, 5, 4, 2, 6, 4, 2, 4, 5, 2, 3, 6, 5, 7, 2, 3, 4, 4, 5, 2, 4, 2, 2, 2, 4, 3, 4, 7, 5, 4, 5, 2, 3, 3, 5, 2, 5, 3, 4, 3, 5, 2, 5, 3, 2, 7, 5, 6, 2, 3, 4, 2, 4, 2, 3, 3, 2, 5, 5, 2, 5, 4, 5, 3, 6, 2, 4, 3, 2, 3, 3, 4, 3, 7, 6, 4, 6, 3, 3, 3, 6, 3, 3, 4, 3, 5, 3, 4, 3, 5, 3, 3, 4, 3, 2, 3, 4, 6, 2, 3, 3, 4, 2, 5, 3, 2, 5, 4, 2, 5, 2, 5, 2, 6, 2, 5, 3, 7, 2, 6, 2, 4, 5, 4, 4, 7, 2, 7, 2, 6, 3, 4, 2, 5, 4, 3, 3, 2, 3, 5, 2, 3, 5, 5, 6, 5, 5, 3, 3, 2, 5, 2, 2, 4, 5, 2, 2, 2, 4, 4, 2, 6, 5, 4, 2, 2, 4, 4, 4, 4, 2, 2, 5, 3, 3, 4, 4, 4, 4, 4, 2, 4, 5, 4, 4, 6, 4, 2, 6, 3, 3, 3, 3, 7, 6, 5, 5, 4, 3, 3, 4, 4, 3, 4, 3, 7, 2, 6, 4, 4, 4, 5, 5, 4, 3, 4, 3, 2, 6, 6, 3, 2, 4, 3, 3, 3, 2, 2, 5, 2, 3, 4, 7, 2, 4, 2, 3, 3, 3, 3, 3, 2, 4, 4, 2, 2, 5, 5, 4, 3, 4, 2, 3, 4, 5, 5, 3, 2, 5, 3, 3, 5, 4, 2, 4, 5, 2, 3, 5, 4, 5, 2, 4, 6, 4, 6, 4, 4, 8, 4, 5, 3, 4, 3, 4, 2, 5, 3, 2, 6, 4, 4, 5, 3, 4, 2, 2, 2, 3, 4, 4, 5, 4, 8, 6, 8, 6, 6, 3, 3, 3, 4, 5, 3, 4, 5, 3, 4, 4, 3, 2, 7, 5, 4, 6, 5, 4, 5, 4, 4, 3, 5, 2, 2, 2, 3, 6, 4, 4, 4, 8, 4, 5, 3, 4, 4, 3, 6, 7, 2, 5, 3, 3, 4, 8, 5, 3, 4, 2, 2, 3, 2, 4, 3, 3, 5, 3, 4, 2, 3, 6, 2, 5, 4, 4, 2, 3, 4, 6, 4, 4, 4, 3, 4, 3, 4, 2, 5, 4, 3, 3, 4, 4, 2, 6, 4, 3, 2, 5, 5, 5, 5, 6, 5, 3, 3, 3, 3, 2, 5, 5, 2, 4, 5, 5, 4, 2, 6, 5, 4, 6, 5, 5, 4, 3, 4, 5, 3, 3, 5, 4, 4, 4, 4, 4, 3, 10, 4, 4, 2, 4, 3, 4, 4, 5, 3, 6, 3, 2, 2, 2, 5, 2, 3, 3, 3, 5, 4, 3, 4, 5, 4, 4, 5, 2, 4, 4, 5, 6, 2, 2, 6, 3, 2, 5, 4, 4, 2, 6, 2, 2, 5, 5, 2, 5, 4, 4, 3, 3, 3, 2, 3, 4, 4, 2, 5, 3, 4, 3, 4, 2, 2, 2, 3, 3, 2, 5, 3, 2, 4, 3, 5, 5, 4, 7, 3, 3, 5, 7, 4, 5, 5, 5, 2, 5, 3, 8, 3, 3, 3, 3, 4, 3, 4, 4, 5, 2, 3, 4, 6, 4, 2, 4, 2, 4, 5, 2, 2, 5, 4, 2, 8, 5, 5, 4, 3, 5, 5, 2, 6, 4, 3, 2, 2, 5, 5, 4, 4, 4, 5, 6, 4, 5, 2, 3, 5, 2, 6, 7, 5, 4, 2, 5, 3, 3, 2, 3, 2, 6, 5, 8, 5, 4, 2, 3, 3, 4, 5, 4, 8, 7, 7, 2, 3, 2, 4, 5, 5, 5, 3, 2, 2, 4, 4, 3, 6, 6, 2, 5, 2, 2, 4, 4, 3, 4, 3, 4, 6, 3, 4, 7, 3, 3, 4, 5, 5, 4, 6, 2, 2, 2, 3, 3, 5, 4, 2, 3, 4, 7, 3, 5, 4, 3, 3, 2, 5, 2, 3, 8, 4, 4, 3, 4, 4, 5, 2, 5, 5, 5, 3, 5, 4, 4, 4, 3, 3, 3, 3, 4, 4, 4, 5, 2, 6, 6, 3, 6, 5, 3, 2, 3, 4, 5, 2, 2, 2, 6, 3, 5, 5, 7, 7, 5, 4, 6, 4, 2, 3, 4, 5, 5, 4, 8, 5, 6, 5, 4, 3, 3, 5, 3, 2, 4, 2, 6, 6, 5, 4, 2, 3, 4, 5, 2, 2, 3, 3, 4, 4, 4, 5, 3, 7, 3, 4, 8, 6, 2, 4, 4, 4, 3, 3, 5, 3, 3, 5, 5, 3, 5, 5, 9, 3, 3, 4, 5, 4, 2, 2, 4, 4, 4, 4, 4, 9, 4, 2, 4, 3, 4, 4, 4, 6, 4, 4, 3, 2, 4, 3, 4, 2, 4, 5, 5, 4, 2, 4, 3, 4, 3, 5, 5, 2, 2, 4, 4, 5, 4, 2, 5, 5, 5, 3, 7, 3, 4, 5, 5, 4, 5, 2, 5, 3, 3, 4, 5, 6, 5, 6, 3, 4, 4, 3, 6, 4, 5, 5, 2, 3, 5, 4, 5, 6, 4, 4, 4, 3, 6, 3, 7, 5, 4, 5, 3, 4, 2, 5, 3, 3, 4, 8, 7, 3, 3, 2, 3, 2, 3, 3, 4, 5, 2, 2, 2, 6, 2, 2, 3, 3, 4, 4, 4, 6, 4, 8, 4, 2, 4, 6, 3, 3, 2, 5, 5, 3, 4, 3, 4, 2, 2, 4, 4, 4, 6, 3, 5, 4, 3, 2, 4, 2, 3, 5, 6, 3, 2, 7, 4, 4, 4, 4, 5, 4, 4, 2, 3, 3, 5, 4, 3, 2, 5, 4, 2, 4, 3, 3, 2, 3, 5, 4, 4, 5, 2, 3, 5, 3, 4, 4, 2, 2, 6, 3, 5, 3, 2, 4, 3, 3, 2, 2, 3, 5, 2, 2, 5, 2, 3, 5, 6, 5, 3, 3, 6, 3, 5, 2, 2, 3, 2, 3, 5, 3, 5, 4, 4, 6, 3, 7, 6, 3, 3, 3, 5, 4, 3, 3, 3, 2, 3, 5, 4, 3, 6, 4, 3, 8, 4, 5, 2, 3, 3, 5, 5, 3, 2, 4, 5, 4, 6, 5, 6, 7, 2, 2, 7, 7, 4, 5, 4, 2, 3, 2, 3, 5, 4, 2, 4, 3, 2, 3, 4, 3, 3, 3, 2, 2, 4, 4, 3, 6, 4, 3, 7, 3, 4, 2, 5, 4, 5, 4, 2, 4, 5, 3, 5, 4, 6, 3, 6, 3, 4, 3, 5, 3, 5, 5, 4, 5, 2, 2, 5, 7, 3, 8, 3, 4, 6, 3, 4, 4, 2, 3, 6, 4, 6, 3, 4, 5, 2, 3, 3, 5, 3, 2, 4, 2, 5, 4, 5, 2, 3, 5, 3, 3, 3, 4, 4, 3, 6, 4, 4, 3, 7, 4, 3, 2, 5, 3, 3, 4, 5, 2, 2, 4, 4, 3, 5, 3, 2, 4, 4, 5, 3, 5, 4, 2, 4, 3, 4, 3, 2, 3, 5, 5, 5, 5, 3, 3, 5, 7, 5, 4, 4, 4, 4, 6, 3, 5, 5, 7, 3, 4, 4, 5, 5, 2, 4, 3, 4, 5, 5, 4, 5, 2, 5, 3, 5, 2, 4, 3, 2, 3, 2, 4, 3, 2, 6, 4, 3, 2, 2, 2, 4, 3, 2, 5, 5, 2, 2, 2, 3, 4, 7, 6, 3, 3, 4, 3, 5, 6, 4, 2, 4, 5, 5, 5, 5, 3, 3, 5, 5, 2, 2, 8, 4, 5, 3, 5, 3, 4, 5, 3, 6, 3, 5, 5, 3, 3, 3, 7, 8, 3, 2, 6, 6, 4, 4, 4, 2, 4, 5, 2, 4, 2, 3, 2, 2, 3, 7, 4, 6, 2, 7, 4, 3, 4, 2, 3, 4, 4, 3, 2, 4, 3, 3, 3, 2, 2, 3, 2, 3, 2, 5, 4, 4, 3, 2, 2, 4, 3, 4, 6, 2, 5, 5, 3, 2, 2, 4, 3, 5, 3, 3, 3, 4, 2, 2, 3, 4, 4, 2, 2, 4, 5, 2, 2, 3, 3, 5, 3, 3, 4, 2, 5, 2, 6, 3, 5, 3, 5, 4, 7, 3, 4, 5, 2, 4, 5, 4, 4, 3, 2, 8, 6, 3, 3, 3, 2, 2, 5, 4, 3, 2, 2, 6, 3, 4, 6, 6, 3, 6, 3, 4, 4, 5, 4, 2, 2, 4, 5, 4, 4, 6, 3, 6, 2, 2, 5, 3, 3, 4, 6, 4, 4, 5, 3, 5, 4, 6, 4, 3, 4, 4, 2, 4, 4, 3, 3, 5, 4, 6, 5, 4, 3, 5, 3, 3, 2, 3, 3, 4, 5, 4, 4, 3, 2, 4, 2, 3, 2, 5, 2, 5, 5, 2, 3, 4, 2, 4, 5, 3, 2, 4]\n"
     ]
    },
    {
     "data": {
      "text/plain": [
       "<seaborn.axisgrid.FacetGrid at 0x223703ad160>"
      ]
     },
     "execution_count": 3,
     "metadata": {},
     "output_type": "execute_result"
    },
    {
     "data": {
      "image/png": "[encoded data removed]",
      "text/plain": [
       "<Figure size 360x360 with 1 Axes>"
      ]
     },
     "metadata": {
      "needs_background": "light"
     },
     "output_type": "display_data"
    }
   ],
   "source": [
    "directory = r'C:\\Users\\rb01243\\OneDrive - University of Surrey\\Documents\\GitHub\\C-YOLOv3\\v3-crowd\\data\\datasets\\Zoon_50min_2perImg_Crowdsourced\\volunteers\\train'\n",
    "\n",
    "userPerImg = []\n",
    "for file in os.listdir(directory):\n",
    "    f = open(directory+'\\\\'+file, \"r\")\n",
    "    users = f.read().split()\n",
    "    users = len(set(users))\n",
    "    userPerImg.append(users)\n",
    "print(userPerImg)\n",
    "sns.displot(userPerImg)\n"
   ]
  },
  {
   "cell_type": "code",
   "execution_count": 29,
   "id": "542ca38c-3d74-400f-8994-ee180bcf8814",
   "metadata": {},
   "outputs": [
    {
     "name": "stdout",
     "output_type": "stream",
     "text": [
      "['chrispsimmons', 'chrispsimmons', 'chrispsimmons', 'chrispsimmons', 'chrispsimmons', 'chrispsimmons', 'chrispsimmons', 'chrispsimmons', 'Alanah.Quarta', 'Alanah.Quarta', 'Alanah.Quarta', 'Alanah.Quarta', 'justalittlefroggy', 'justalittlefroggy', 'justalittlefroggy', 'justalittlefroggy', 'justalittlefroggy', 'justalittlefroggy', 'justalittlefroggy', 'justalittlefroggy', 'justalittlefroggy', 'justalittlefroggy', 'justalittlefroggy', 'justalittlefroggy', 'ruirasjudith', 'ruirasjudith', 'ruirasjudith', 'ruirasjudith', 'ruirasjudith', 'ruirasjudith', 'ruirasjudith', 'ruirasjudith', '']\n",
      "['chrispsimmons', 'chrispsimmons', 'chrispsimmons', 'chrispsimmons', 'chrispsimmons', 'chrispsimmons', 'chrispsimmons', 'chrispsimmons', 'Alanah.Quarta', 'Alanah.Quarta', 'Alanah.Quarta', 'Alanah.Quarta', 'justalittlefroggy', 'justalittlefroggy', 'justalittlefroggy', 'justalittlefroggy', 'justalittlefroggy', 'justalittlefroggy', 'justalittlefroggy', 'justalittlefroggy', 'justalittlefroggy', 'justalittlefroggy', 'justalittlefroggy', 'justalittlefroggy', 'ruirasjudith', 'ruirasjudith', 'ruirasjudith', 'ruirasjudith', 'ruirasjudith', 'ruirasjudith', 'ruirasjudith', 'ruirasjudith']\n",
      "['chrispsimmons']\n",
      "['chrispsimmons']\n",
      "['chrispsimmons']\n",
      "['chrispsimmons']\n",
      "['chrispsimmons']\n",
      "['chrispsimmons']\n",
      "['chrispsimmons']\n",
      "['chrispsimmons']\n",
      "['Alanah.Quarta']\n",
      "['Alanah.Quarta']\n",
      "['Alanah.Quarta']\n",
      "['Alanah.Quarta']\n",
      "['justalittlefroggy']\n",
      "['justalittlefroggy']\n",
      "['justalittlefroggy']\n",
      "['justalittlefroggy']\n",
      "['justalittlefroggy']\n",
      "['justalittlefroggy']\n",
      "['justalittlefroggy']\n",
      "['justalittlefroggy']\n",
      "['justalittlefroggy']\n",
      "['justalittlefroggy']\n",
      "['justalittlefroggy']\n",
      "['justalittlefroggy']\n",
      "['ruirasjudith']\n",
      "['ruirasjudith']\n",
      "['ruirasjudith']\n",
      "['ruirasjudith']\n",
      "['ruirasjudith']\n",
      "['ruirasjudith']\n",
      "['ruirasjudith']\n",
      "['ruirasjudith']\n"
     ]
    }
   ],
   "source": [
    "f = open(r'C:\\Users\\rb01243\\OneDrive - University of Surrey\\Desktop\\zoon data\\Finished Data\\Zoon_50min_3perImg_Crowdsourced\\volunteers\\train\\0000001-X-20061214-141834-X0000001C-3.txt', 'r')\n",
    "users = f.read()\n",
    "users2 = users.split('\\n')\n",
    "print(users2)\n",
    "if users2[-1] == '':\n",
    "    users2.pop()\n",
    "print(users2)\n",
    "for userz in users2:\n",
    "    print(userz.split())"
   ]
  },
  {
   "cell_type": "code",
   "execution_count": null,
   "id": "3e88a7a9-569f-4c67-a30c-3ff6cb57eb75",
   "metadata": {},
   "outputs": [],
   "source": []
  }
 ],
 "metadata": {
  "kernelspec": {
   "display_name": "Python 3 (ipykernel)",
   "language": "python",
   "name": "python3"
  },
  "language_info": {
   "codemirror_mode": {
    "name": "ipython",
    "version": 3
   },
   "file_extension": ".py",
   "mimetype": "text/x-python",
   "name": "python",
   "nbconvert_exporter": "python",
   "pygments_lexer": "ipython3",
   "version": "3.9.7"
  }
 },
 "nbformat": 4,
 "nbformat_minor": 5
}
