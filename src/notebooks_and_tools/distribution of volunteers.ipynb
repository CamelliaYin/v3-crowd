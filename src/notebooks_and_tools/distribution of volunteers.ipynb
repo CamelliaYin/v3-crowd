{
 "cells": [
  {
   "cell_type": "code",
   "execution_count": 1,
   "id": "e878c69f-a78e-4ba5-83b2-54bb6526eb77",
   "metadata": {},
   "outputs": [],
   "source": [
    "import os\n",
    "import seaborn as sns"
   ]
  },
  {
   "cell_type": "code",
   "execution_count": 5,
   "id": "ebcd2e76-a3a0-4e91-a18c-e1174ca1d4f1",
   "metadata": {},
   "outputs": [
    {
     "name": "stdout",
     "output_type": "stream",
     "text": [
      "[2, 3, 3, 4, 3, 3, 4, 5, 3, 3, 3, 3, 3, 4, 4, 4, 4, 4, 4, 5, 2, 4, 6, 6, 3, 2, 4, 7, 4, 3, 5, 4, 3, 5, 3, 2, 4, 5, 4, 5, 3, 5, 3, 5, 4, 3, 2, 5, 5, 4, 4, 5, 3, 3, 5, 4, 3, 6, 6, 4, 2, 3, 3, 5, 4, 6, 4, 2, 2, 5, 5, 5, 5, 4, 5, 1, 6, 5, 2, 7, 3, 4, 5, 5, 4, 3, 5, 4, 2, 1, 3, 4, 3, 4, 6, 4, 4, 3, 4, 3, 5, 5, 1, 4, 2, 3, 3, 5, 4, 3, 5, 4, 3, 3, 3, 1, 1, 7, 3, 4, 5, 5, 5, 4, 5, 4, 3, 5, 4, 4, 4, 3, 2, 4, 3, 2, 5, 7, 5, 3, 4, 3, 7, 4, 5, 4, 4, 4, 3, 6, 3, 5, 2, 4, 2, 4, 3, 3, 5, 5, 5, 3, 4, 5, 3, 3, 3, 2, 4, 4, 6, 3, 4, 5, 3, 4, 5, 8, 3, 5, 6, 7, 5, 6, 3, 7, 6, 4, 8, 4, 4, 4, 6, 4, 4, 1, 3, 5, 3, 3, 5, 3, 4, 2, 6, 4, 5, 3, 5, 5, 3, 3, 4, 3, 6, 5, 3, 2, 6, 5, 6, 3, 2, 4, 4, 2, 6, 4, 4, 4, 3, 5, 3, 3, 7, 4, 5, 4, 5, 5, 2, 3, 4, 3, 4, 4, 3, 3, 4, 6, 4, 3, 2, 5, 2, 4, 4, 4, 4, 3, 6, 2, 6, 3, 5, 4, 4, 6, 4, 4, 5, 5, 4, 5, 3, 3, 3, 3, 6, 5, 2, 5, 2, 4, 4, 4, 2, 7, 4, 4, 6, 6, 5, 2, 4, 5, 1, 4, 3, 4, 3, 3, 5, 3, 8, 5, 3, 3, 3, 2, 4, 3, 4, 5, 3, 2, 2, 3, 3, 7, 1, 4, 4, 4, 3, 5, 3, 3, 6, 3, 5, 8, 3, 3, 3, 4, 4, 4, 7, 4, 7, 3, 2, 7, 3, 6, 4, 6, 5, 4, 6, 3, 3, 2, 6, 5, 4, 3, 5, 3, 5, 5, 3, 2, 5, 4, 6, 3, 6, 5, 3, 5, 4, 2, 8, 5, 3, 5, 3, 5, 3, 3, 6, 3, 5, 7, 6, 4, 4, 4, 8, 4, 3, 3, 5, 4, 3, 4, 3, 5, 4, 8, 3, 3, 7, 4, 3, 3, 7, 3, 3, 4, 2, 4, 3, 2, 2, 5, 2, 4, 3, 3, 4, 2, 1, 4, 4, 3, 2, 5, 6, 4, 3, 5, 2, 3, 2, 5, 2, 4, 5, 5, 3, 5, 4, 4, 3, 5, 5, 4, 4, 4, 5, 5, 3, 3, 3, 3, 5, 4, 4, 4, 3, 2, 7, 5, 4, 3, 4, 6, 3, 4, 3, 4, 4, 4, 3, 5, 3, 2, 2, 4, 4, 4, 5, 3, 6, 4, 3, 4, 2, 5, 6, 7, 4, 3, 5, 3, 4, 3, 2, 5, 4, 4, 1, 5, 10, 2, 6, 4, 1, 3, 5, 5, 5, 2, 2, 6, 4, 3, 4, 5, 5, 4, 5, 4, 4, 3, 3, 1, 3, 4, 5, 5, 3, 5, 6, 2, 7, 3, 3, 4, 4, 4, 5, 3, 5, 2, 4, 4, 4, 6, 2, 3, 6, 4, 5, 3, 3, 4, 5, 4, 4, 6, 3, 4, 4, 3, 3, 4, 1, 5, 2, 6, 4, 2, 3, 6, 4, 6, 5, 4, 3, 4, 4, 5, 8, 2, 3, 3, 4, 4, 1, 5, 4, 6, 3, 5, 5, 6, 5, 4, 6, 4, 5, 5, 3, 5, 5, 7, 3, 3, 6, 3, 5, 4, 4, 3, 4, 4, 4, 4, 4, 3, 3, 3, 4, 6, 5, 4, 4, 4, 4, 3, 4, 3, 3, 3, 3, 6, 4, 5, 3, 2, 3, 3, 3, 4, 5, 2, 6, 6, 4, 3, 3, 7, 5, 4, 3, 6, 4, 4, 2, 4, 2, 3, 4, 1, 3, 3, 3, 3, 6, 3, 2, 5, 3, 5, 3, 6, 2, 2, 3, 7, 5, 3, 5, 6, 8, 4, 3, 4, 7, 2, 4, 4, 3, 6, 3, 4, 3, 5, 4, 2, 6, 4, 4, 6, 2, 3, 2, 5, 4, 5, 3, 7, 3, 2, 5, 5, 6, 4, 4, 2, 5, 4, 5, 7, 3, 4, 3, 4, 6, 3, 6, 4, 2, 6, 4, 3, 4, 6, 2, 2, 3, 5, 4, 3, 4, 3, 4, 5, 3, 4, 3, 1, 5, 7, 5, 2, 7, 3, 5, 2, 3, 2, 4, 4, 2, 4, 4, 4, 5, 3, 4, 3, 6, 4, 5, 4, 4, 6, 3, 5, 3, 2, 5, 3, 5, 4, 5, 3, 2, 5, 9, 4, 2, 3, 3, 4, 2, 3, 4, 6, 2, 2, 2, 5, 2, 4, 5, 8, 4, 1, 3, 4, 4, 5, 3, 5, 7, 4, 2, 3, 6, 4, 3, 5, 4, 2, 4, 4, 3, 2, 5, 6, 8, 4, 6, 4, 5, 4, 5, 5, 3, 3, 2, 4, 3, 4, 5, 3, 3, 2, 6, 3, 4, 5, 2, 8, 5, 4, 6, 5, 4, 5, 4, 4, 5, 4, 4, 5, 4, 4, 2, 6, 3, 5, 3, 6, 4, 5, 4, 4, 2, 3, 3, 5, 4, 3, 5, 4, 3, 6, 8, 3, 4, 4, 2, 5, 3, 4, 5, 3, 5, 4, 6, 4, 4, 6, 3, 5, 5, 3, 3, 3, 4, 5, 2, 3, 5, 2, 3, 7, 4, 5, 6, 4, 5, 3, 2, 3, 5, 1, 6, 4, 4, 7, 5, 2, 3, 2, 2, 4, 5, 7, 5, 4, 4, 3, 3, 5, 2, 5, 4, 4, 4, 4, 5, 2, 5, 3, 3, 6, 3, 3, 5, 2, 3, 5, 2, 3, 4, 4, 3, 5, 2, 5, 5, 4, 5, 4, 2, 3, 4, 4, 1, 4, 4, 5, 3, 7, 7, 2, 2, 4, 3, 3, 3, 2, 4, 4, 8, 2, 2, 7, 5, 3, 5, 5, 4, 3, 5, 3, 4, 5, 5, 7, 3, 4, 5, 5, 5, 3, 4, 3, 4, 5, 4, 6, 3, 3, 4, 2, 6, 4, 4, 3, 4, 4, 2, 3, 3, 5, 3, 2, 4, 5, 3, 6, 3, 5, 5, 6, 4, 5, 6, 5, 5, 5, 5, 3, 1, 3, 4, 5, 2, 2, 5, 3, 5, 4, 3, 6, 4, 3, 4, 3, 3, 2, 6, 4, 6, 3, 8, 3, 3, 3, 1, 3, 5, 1, 4, 3, 4, 3, 4, 6, 2, 4, 5, 4, 6, 2, 5, 5, 3, 4, 3, 4, 3, 5, 3, 5, 5, 2, 2, 5, 3, 4, 5, 5, 2, 3, 3, 4, 3, 4, 4, 2, 3, 4, 2, 6, 4, 4, 2, 3, 3, 5, 4, 3, 7, 5, 1, 3, 4, 5, 6, 4, 4, 5, 5, 3, 5, 2, 4, 6, 3, 3, 5, 4, 5, 6, 3, 3, 3, 3, 4, 4, 3, 3, 4, 2, 4, 2, 5, 2, 5, 3, 3, 2, 4, 4, 4, 3, 4, 4, 3, 3, 5, 5, 3, 1, 5, 3, 4, 4, 7, 7, 3, 3, 6, 2, 6, 3, 4, 5, 3, 2, 6, 3, 4, 2, 3, 4, 4, 4, 4, 7, 3, 5, 3, 4, 5, 4, 4, 3, 4, 5, 3, 2, 2, 2, 3, 6, 3, 4, 3, 4, 5, 7, 3, 2, 6, 3, 2, 5, 4, 4, 3, 3, 4, 8, 3, 3, 5, 5, 5, 4, 3, 3, 3, 1, 3, 5, 4, 3, 3, 4, 2, 3, 5, 5, 4, 3, 5, 5, 2, 4, 5, 3, 7, 2, 3, 4, 2, 4, 5, 4, 2, 6, 3, 4, 4, 3, 3, 3, 2, 4, 2, 2, 4, 3, 4, 2, 4, 3, 3, 4, 7, 4, 6, 7, 5, 5, 9, 3, 4, 4, 4, 3, 6, 4, 3, 6, 1, 4, 5, 3, 2, 4, 5, 5, 4, 5, 4, 4, 1, 6, 4, 4, 4, 5, 3, 5, 4, 5, 5, 3, 5, 4, 5, 4, 4, 5, 4, 5, 7, 3, 6, 3, 4, 5, 5, 3, 3, 3, 3, 4, 3, 7, 2, 4, 5, 2, 4, 3, 3, 3, 3, 4, 3, 4, 4, 3, 3, 3, 3, 2, 8, 2, 3, 2, 5, 3, 6, 3, 3, 4, 4, 7, 5, 2, 4, 5, 6, 5, 2, 2, 3, 4, 3, 2, 3, 4, 5, 5, 1, 5, 4, 5, 6, 6, 1, 3, 3, 4, 6, 1, 1, 4, 4, 3, 3, 3, 3, 5, 3, 7, 3, 2, 5, 5, 6, 3, 4, 2, 5, 2, 4, 3, 4, 2, 4, 3, 4, 3, 7, 3, 3, 4, 5, 4, 3, 3, 7, 2, 3, 3, 5, 4, 1, 3, 2, 3, 4, 3, 4, 4, 4, 2, 9, 6, 3, 4, 2, 3, 4, 4, 2, 2, 2, 5, 6, 2, 7, 4, 4, 4, 7, 5, 5, 5, 3, 3, 3, 4, 4, 4, 5, 2, 2, 7, 3, 3, 5, 3, 5, 5, 3, 4, 4, 3, 3, 3, 4, 2, 6, 5, 3, 6, 5, 5, 5, 6, 2, 2, 5, 4, 4, 5, 5, 4, 7, 4, 1, 4, 3, 4, 1, 5, 8, 2, 4, 3, 3, 2, 6, 4, 5, 4, 4, 2, 4, 3, 4, 5, 1, 8, 5, 8, 2, 2, 4, 2, 4, 3, 4, 3, 5, 4, 5, 3, 5, 3, 5, 4, 3, 3, 5]\n"
     ]
    },
    {
     "data": {
      "text/plain": [
       "<seaborn.axisgrid.FacetGrid at 0x7f7c88409b50>"
      ]
     },
     "execution_count": 5,
     "metadata": {},
     "output_type": "execute_result"
    },
    {
     "data": {
      "image/png": "[encoded data removed]",
      "text/plain": [
       "<Figure size 360x360 with 1 Axes>"
      ]
     },
     "metadata": {
      "needs_background": "light"
     },
     "output_type": "display_data"
    }
   ],
   "source": [
    "directory = r'/Users/rb01243/Documents/GitHub/v3-crowd/data/datasets/Zoon_50min_3perImg_Crowdsourced/volunteers/train'\n",
    "\n",
    "userPerImg = []\n",
    "for file in os.listdir(directory):\n",
    "    f = open(directory+'/'+file, \"r\")\n",
    "    users = f.read().split()\n",
    "    users = len(set(users))\n",
    "    userPerImg.append(users)\n",
    "print(userPerImg)\n",
    "sns.displot(userPerImg)\n"
   ]
  },
  {
   "cell_type": "code",
   "execution_count": null,
   "id": "b092087f-0d36-427f-90ac-7b75c608cf1c",
   "metadata": {},
   "outputs": [],
   "source": []
  }
 ],
 "metadata": {
  "kernelspec": {
   "display_name": "Python 3 (ipykernel)",
   "language": "python",
   "name": "python3"
  },
  "language_info": {
   "codemirror_mode": {
    "name": "ipython",
    "version": 3
   },
   "file_extension": ".py",
   "mimetype": "text/x-python",
   "name": "python",
   "nbconvert_exporter": "python",
   "pygments_lexer": "ipython3",
   "version": "3.9.7"
  }
 },
 "nbformat": 4,
 "nbformat_minor": 5
}
