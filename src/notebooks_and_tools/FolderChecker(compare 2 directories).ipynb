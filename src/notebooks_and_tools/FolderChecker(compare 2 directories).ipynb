{
 "cells": [
  {
   "cell_type": "markdown",
   "id": "51859c03-e422-47bb-a030-13c000be8620",
   "metadata": {},
   "source": [
    "## File Checker\n",
    "This code checks to see how many files from one directory is in another directory"
   ]
  },
  {
   "cell_type": "code",
   "execution_count": 3,
   "id": "2a1c9c23-859f-4c7d-b604-8ac8832c2d4e",
   "metadata": {},
   "outputs": [],
   "source": [
    "import os\n"
   ]
  },
  {
   "cell_type": "code",
   "execution_count": 34,
   "id": "882a936b-e097-4dff-8ec6-bc8bc381a932",
   "metadata": {},
   "outputs": [
    {
     "name": "stdout",
     "output_type": "stream",
     "text": [
      "80 : Files Found\n",
      "['IS20180614_161235_0835_000000CD.jpg : IS20180614_161235_0835_000000CD.jpg', 'IS20190121_094120_0903_00000702.jpg : IS20190121_094120_0903_00000702.jpg', 'IS20190529_121316_0603_00001B5F.jpg : IS20190529_121316_0603_00001B5F.jpg', 'IS20190605_100053_0811_00001CCE.jpg : IS20190605_100053_0811_00001CCE.jpg', 'IS20190716_144826_0668_000026F2.jpg : IS20190716_144826_0668_000026F2.jpg', 'IS20190716_144902_0220_000026F3.jpg : IS20190716_144902_0220_000026F3.jpg', 'IS20190916_155531_0888_00003368.jpg : IS20190916_155531_0888_00003368.jpg', 'IS20190925_080311_0732_0000343E.jpg : IS20190925_080311_0732_0000343E.jpg', 'IS20190930_080551_0119_000034B9.jpg : IS20190930_080551_0119_000034B9.jpg', 'IS20191113_081626_0893_000038CF.jpg : IS20191113_081626_0893_000038CF.jpg', 'IS20191121_115147_0636_000039A3.jpg : IS20191121_115147_0636_000039A3.jpg', 'IS20191128_142111_0361_00003A3B.jpg : IS20191128_142111_0361_00003A3B.jpg', 'IX20191008_105239_0006_00003581.jpg : IX20191008_105239_0006_00003581.jpg', 'IX20191018_145924_0858_000036ED.jpg : IX20191018_145924_0858_000036ED.jpg', 'IX20191022_101757_0873_00003708.jpg : IX20191022_101757_0873_00003708.jpg', 'IX20191023_142706_0883_0000373E.jpg : IX20191023_142706_0883_0000373E.jpg', 'IX20191024_142538_0552_00003761.jpg : IX20191024_142538_0552_00003761.jpg', 'IX20191030_093817_0791_000037B5.jpg : IX20191030_093817_0791_000037B5.jpg', 'Unknown-X-20191111-111540-XE2TAIKRCCFW-3.jpg : Unknown-X-20191111-111540-XE2TAIKRCCFW-3.JPG', 'Unknown-X-20191113-111853-XYYUCGZJHAAT-3.jpg : Unknown-X-20191113-111853-XYYUCGZJHAAT-3.JPG', 'Unknown-X-20191114-085826-X4MKCC4Y2IX4-3.jpg : Unknown-X-20191114-085826-X4MKCC4Y2IX4-3.JPG', 'Unknown-X-20191115-092306-XEMAYUBISHR7-3.jpg : Unknown-X-20191115-092306-XEMAYUBISHR7-3.JPG', 'Unknown-X-20191119-090744-X99LU4EIHRX1-3.jpg : Unknown-X-20191119-090744-X99LU4EIHRX1-3.JPG', 'Unknown-X-20191122-102121-XGUN89O83TDK-3.jpg : Unknown-X-20191122-102121-XGUN89O83TDK-3.JPG', 'Unknown-X-20191122-123736-XZRY1XY1FPX3-3.jpg : Unknown-X-20191122-123736-XZRY1XY1FPX3-3.JPG', 'Unknown-X-20191204-104701-X8TERKZGTGBV-3.jpg : Unknown-X-20191204-104701-X8TERKZGTGBV-3.JPG', 'Unknown-X-20191205-081124-XY3NEJ07+SBA-3.jpg : Unknown-X-20191205-081124-XY3NEJ07+SBA-3.JPG', 'Unknown-X-20191210-120736-XARC0RVQLHTU-3.jpg : Unknown-X-20191210-120736-XARC0RVQLHTU-3.JPG', 'Unknown-X-20191210-152557-XWP3JSBNOZRI-3.jpg : Unknown-X-20191210-152557-XWP3JSBNOZRI-3.JPG', 'Unknown-X-20191210-152628-XNFAIVV5GMVS-3.jpg : Unknown-X-20191210-152628-XNFAIVV5GMVS-3.JPG', 'Unknown-X-20191212-121839-XCZNSE7IFKZ1-3.jpg : Unknown-X-20191212-121839-XCZNSE7IFKZ1-3.JPG', 'Unknown-X-20191212-161934-X375E+M5VWL1-3.jpg : Unknown-X-20191212-161934-X375E+M5VWL1-3.JPG', 'Unknown-X-20191218-111517-XOZF1OGO8U5N-3.jpg : Unknown-X-20191218-111517-XOZF1OGO8U5N-3.JPG', 'Unknown-X-20191227-140958-XCGW4NTB8+BS-3.jpg : Unknown-X-20191227-140958-XCGW4NTB8+BS-3.JPG', 'Unknown-X-20200103-082634-X8TVB9X2OIZJ-3.jpg : Unknown-X-20200103-082634-X8TVB9X2OIZJ-3.JPG', 'Unknown-X-20200107-104228-X0EELLWU2IU-3.jpg : Unknown-X-20200107-104228-X0EELLWU2IU-3.JPG', 'Unknown-X-20200107-162917-XGH9BVVEFLZC-3.jpg : Unknown-X-20200107-162917-XGH9BVVEFLZC-3.JPG', 'Unknown-X-20200108-120243-XOYYKDY+CKXN-3.jpg : Unknown-X-20200108-120243-XOYYKDY+CKXN-3.JPG', 'Unknown-X-20200108-143120-X5TP9PMCUYE-3.jpg : Unknown-X-20200108-143120-X5TP9PMCUYE-3.JPG', 'Unknown-X-20200108-162424-XJTVFFN98KRL-3.jpg : Unknown-X-20200108-162424-XJTVFFN98KRL-3.JPG', 'Unknown-X-20200109-080844-X8EJIUQAAJDU-3.jpg : Unknown-X-20200109-080844-X8EJIUQAAJDU-3.JPG', 'Unknown-X-20200109-093702-XZSZALKEDKJ-3.jpg : Unknown-X-20200109-093702-XZSZALKEDKJ-3.JPG', 'Unknown-X-20200110-090553-XMR1CFXAMBX5-3.jpg : Unknown-X-20200110-090553-XMR1CFXAMBX5-3.JPG', 'Unknown-X-20200110-152853-XF0KWJ49URF8-3.jpg : Unknown-X-20200110-152853-XF0KWJ49URF8-3.JPG', 'Unknown-X-20200115-113036-XJHKQPXFXRHL-3.jpg : Unknown-X-20200115-113036-XJHKQPXFXRHL-3.JPG', 'Unknown-X-20200120-115937-XJP25ZP3R1EQ-3.jpg : Unknown-X-20200120-115937-XJP25ZP3R1EQ-3.JPG', 'Unknown-X-20200121-161241-XIHBWIBFUDYO-3.jpg : Unknown-X-20200121-161241-XIHBWIBFUDYO-3.JPG', 'Unknown-X-20200128-094526-XXOSJZZSEJTR-3.jpg : Unknown-X-20200128-094526-XXOSJZZSEJTR-3.JPG', 'Unknown-X-20200203-115452-XCLQXWTH6OGW-3.jpg : Unknown-X-20200203-115452-XCLQXWTH6OGW-3.JPG', 'Unknown-X-20200204-084520-XF7WI+V53CUB-3.jpg : Unknown-X-20200204-084520-XF7WI+V53CUB-3.JPG', 'Unknown-X-20200205-102557-XHFSVFI2YOCR-3.jpg : Unknown-X-20200205-102557-XHFSVFI2YOCR-3.JPG', 'Unknown-X-20200205-141023-X8CH3WUT55TB-3.jpg : Unknown-X-20200205-141023-X8CH3WUT55TB-3.JPG', 'Unknown-X-20200206-091839-XBPNC2IUOAV-3.jpg : Unknown-X-20200206-091839-XBPNC2IUOAV-3.JPG', 'Unknown-X-20200206-104626-XKSU4OVIEBXI-3.jpg : Unknown-X-20200206-104626-XKSU4OVIEBXI-3.JPG', 'Unknown-X-20200206-150449-XU8NFMMQYP9K-3.jpg : Unknown-X-20200206-150449-XU8NFMMQYP9K-3.JPG', 'Unknown-X-20200207-095434-XYJSEIZ0GUDU-3.jpg : Unknown-X-20200207-095434-XYJSEIZ0GUDU-3.JPG', 'Unknown-X-20200210-151251-XR1U9RYJTL3S-3.jpg : Unknown-X-20200210-151251-XR1U9RYJTL3S-3.JPG', 'Unknown-X-20200211-091355-XSGWCYBP3RXG-3.jpg : Unknown-X-20200211-091355-XSGWCYBP3RXG-3.JPG', 'Unknown-X-20200211-095032-XFHQR9NYKFWW-3.jpg : Unknown-X-20200211-095032-XFHQR9NYKFWW-3.JPG', 'Unknown-X-20200211-123809-X1MEMMFQIBUV-3.jpg : Unknown-X-20200211-123809-X1MEMMFQIBUV-3.JPG', 'Unknown-X-20200212-092216-XDBJPMNCZREY-3.jpg : Unknown-X-20200212-092216-XDBJPMNCZREY-3.JPG', 'Unknown-X-20200213-084636-X5+BNUEMHTI3-3.jpg : Unknown-X-20200213-084636-X5+BNUEMHTI3-3.JPG', 'Unknown-X-20200213-115047-XG8ZSGUFGEDX-3.jpg : Unknown-X-20200213-115047-XG8ZSGUFGEDX-3.JPG', 'Unknown-X-20200214-092056-XCEE23Y9LI4E-3.jpg : Unknown-X-20200214-092056-XCEE23Y9LI4E-3.JPG', 'Unknown-X-20200214-105332-XJSQNFUSEHID-3.jpg : Unknown-X-20200214-105332-XJSQNFUSEHID-3.JPG', 'Unknown-X-20200214-150034-X32PXCA8TGE-3.jpg : Unknown-X-20200214-150034-X32PXCA8TGE-3.JPG', 'Unknown-X-20200218-081906-XCRRDM7XQLG7-3.jpg : Unknown-X-20200218-081906-XCRRDM7XQLG7-3.JPG', 'Unknown-X-20200219-110914-X9FY+4AFMBSD-3.jpg : Unknown-X-20200219-110914-X9FY+4AFMBSD-3.JPG', 'Unknown-X-20200220-091403-XB4N6Q76QDHL-3.jpg : Unknown-X-20200220-091403-XB4N6Q76QDHL-3.JPG', 'Unknown-X-20200220-091450-XHC1JM85EFUM-3.jpg : Unknown-X-20200220-091450-XHC1JM85EFUM-3.JPG', 'Unknown-X-20200221-122042-XEPNXX2LJHH-3.jpg : Unknown-X-20200221-122042-XEPNXX2LJHH-3.JPG', 'Unknown-X-20200221-152638-X0NEXAV2DAF-3.jpg : Unknown-X-20200221-152638-X0NEXAV2DAF-3.JPG', 'Unknown-X-20200224-103637-XEJK0EV4WYE-3.jpg : Unknown-X-20200224-103637-XEJK0EV4WYE-3.JPG', 'Unknown-X-20200224-150702-XDILJV+DT79V-3.jpg : Unknown-X-20200224-150702-XDILJV+DT79V-3.JPG', 'Unknown-X-20200224-155300-XQ+OJNQSCI9O-3.jpg : Unknown-X-20200224-155300-XQ+OJNQSCI9O-3.JPG', 'Unknown-X-20200224-160643-XF+8NY4TNRF-3.jpg : Unknown-X-20200224-160643-XF+8NY4TNRF-3.JPG', 'Unknown-X-20200225-092500-XZUSY3XEHGK5-3.jpg : Unknown-X-20200225-092500-XZUSY3XEHGK5-3.JPG', 'Unknown-X-20200227-101404-XG1HVPXX3AZI-3.jpg : Unknown-X-20200227-101404-XG1HVPXX3AZI-3.JPG', 'Unknown-X-20200228-151104-XONOOJZQPZ-3.jpg : Unknown-X-20200228-151104-XONOOJZQPZ-3.JPG', 'Unknown-X-20200303-165004-X9TZXIYZ24N5-3.jpg : Unknown-X-20200303-165004-X9TZXIYZ24N5-3.JPG']\n"
     ]
    }
   ],
   "source": [
    "direct1 = r'C:\\Users\\rb01243\\OneDrive - University of Surrey\\Documents\\GitHub\\C-YOLOv3\\v3-crowd\\data\\datasets\\bcc-tv\\images\\train'\n",
    "direct2 = r'C:\\Users\\rb01243\\OneDrive - University of Surrey\\Documents\\GitHub\\C-YOLOv3\\v3-crowd\\data\\datasets\\Zoon_50min_3perImg_Crowdsourced\\images\\val'\n",
    "\n",
    "present = []\n",
    "count = 0\n",
    "for file in os.listdir(direct1):\n",
    "    file1 = file.split('.')\n",
    "    for file2 in os.listdir(direct2):\n",
    "        file22 = file2.split('.')\n",
    "        if file1[0] == file22[0]:\n",
    "            present.append(file+' : '+file2)\n",
    "            count += 1\n",
    "print(count, ': Files Found')\n",
    "print(present)"
   ]
  },
  {
   "cell_type": "markdown",
   "id": "da6a6d6b-8fe7-445b-a0ed-f11b391f8015",
   "metadata": {},
   "source": [
    "#### Zoon_50min_3perImg_Crowdsourced VAL compared to bcc-tv VAL           \n",
    "20 files found (all files present)\n",
    "\n",
    "#### Zoon_50min_3perImg_Crowdsourced TRAIN compared to bcc-tv TRAIN  \n",
    "0 files found (old train data could be in the new val data)\n",
    "\n",
    "#### Zoon_50min_3perImg_Crowdsourced VAL compared to bcc-tv TRAIN  \n",
    "80 files found (originally in train but now in val)\n",
    "\n",
    "#### Zoon_50min_3perImg_IID VAL compared to iid-tv VAL\n",
    "20 files found (all files present)\n",
    "\n",
    "#### Zoon_50min_3perImg_IID VAL compared to iid-tv TRAIN\n",
    "320 files found (all files present)"
   ]
  },
  {
   "cell_type": "code",
   "execution_count": null,
   "id": "cdcdcc3a-b085-420c-aba8-c533d6c18348",
   "metadata": {},
   "outputs": [],
   "source": []
  }
 ],
 "metadata": {
  "kernelspec": {
   "display_name": "Python 3 (ipykernel)",
   "language": "python",
   "name": "python3"
  },
  "language_info": {
   "codemirror_mode": {
    "name": "ipython",
    "version": 3
   },
   "file_extension": ".py",
   "mimetype": "text/x-python",
   "name": "python",
   "nbconvert_exporter": "python",
   "pygments_lexer": "ipython3",
   "version": "3.9.7"
  }
 },
 "nbformat": 4,
 "nbformat_minor": 5
}
