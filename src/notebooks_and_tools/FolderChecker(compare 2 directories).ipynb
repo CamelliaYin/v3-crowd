{
 "cells": [
  {
   "cell_type": "markdown",
   "id": "51859c03-e422-47bb-a030-13c000be8620",
   "metadata": {},
   "source": [
    "## File Checker\n",
    "This code checks to see how many files from one directory is in another directory"
   ]
  },
  {
   "cell_type": "code",
   "execution_count": 3,
   "id": "2a1c9c23-859f-4c7d-b604-8ac8832c2d4e",
   "metadata": {},
   "outputs": [],
   "source": [
    "import os\n"
   ]
  },
  {
   "cell_type": "code",
   "execution_count": 22,
   "id": "882a936b-e097-4dff-8ec6-bc8bc381a932",
   "metadata": {},
   "outputs": [
    {
     "name": "stdout",
     "output_type": "stream",
     "text": [
      "320 : Files Found\n"
     ]
    }
   ],
   "source": [
    "direct1 = r'C:\\Users\\rb01243\\OneDrive - University of Surrey\\Documents\\GitHub\\C-YOLOv3\\v3-crowd\\data\\datasets\\iid-tv\\images\\train'\n",
    "direct2 = r'C:\\Users\\rb01243\\OneDrive - University of Surrey\\Documents\\GitHub\\C-YOLOv3\\v3-crowd\\data\\datasets\\Zoon_50min_3perImg_IID\\images\\val'\n",
    "\n",
    "count = 0\n",
    "for file in os.listdir(direct1):\n",
    "    file = file.split('.')\n",
    "    for file2 in os.listdir(direct2):\n",
    "        file2 = file2.split('.')\n",
    "        if file[0] == file2[0]:\n",
    "            count += 1\n",
    "print(count, ': Files Found')"
   ]
  },
  {
   "cell_type": "markdown",
   "id": "da6a6d6b-8fe7-445b-a0ed-f11b391f8015",
   "metadata": {},
   "source": [
    "#### Zoon_50min_3perImg_Crowdsourced VAL compared to bcc-tv VAL           \n",
    "20 files found (all files present)\n",
    "\n",
    "#### Zoon_50min_3perImg_Crowdsourced TRAIN compared to bcc-tv TRAIN  \n",
    "0 files found (old train data could be in the new val data)\n",
    "\n",
    "#### Zoon_50min_3perImg_Crowdsourced VAL compared to bcc-tv TRAIN  \n",
    "80 files found (originally in train but now in val)\n",
    "\n",
    "#### Zoon_50min_3perImg_IID VAL compared to iid-tv VAL\n",
    "20 files found (all files present)\n",
    "\n",
    "#### Zoon_50min_3perImg_IID VAL compared to iid-tv TRAIN\n",
    "320 files found (all files present)"
   ]
  },
  {
   "cell_type": "code",
   "execution_count": null,
   "id": "cdcdcc3a-b085-420c-aba8-c533d6c18348",
   "metadata": {},
   "outputs": [],
   "source": []
  }
 ],
 "metadata": {
  "kernelspec": {
   "display_name": "Python 3 (ipykernel)",
   "language": "python",
   "name": "python3"
  },
  "language_info": {
   "codemirror_mode": {
    "name": "ipython",
    "version": 3
   },
   "file_extension": ".py",
   "mimetype": "text/x-python",
   "name": "python",
   "nbconvert_exporter": "python",
   "pygments_lexer": "ipython3",
   "version": "3.9.7"
  }
 },
 "nbformat": 4,
 "nbformat_minor": 5
}
