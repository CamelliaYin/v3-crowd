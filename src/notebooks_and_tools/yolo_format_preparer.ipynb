{
 "cells": [
  {
   "cell_type": "code",
   "execution_count": 1,
   "id": "8b18452e-eb5d-40cb-9616-4e4049d48595",
   "metadata": {},
   "outputs": [],
   "source": [
    "import os\n",
    "import pandas as pd\n",
    "import numpy as np"
   ]
  },
  {
   "cell_type": "code",
   "execution_count": 4,
   "id": "e7c79c65-3c23-490c-9f59-a4e8ca4e348d",
   "metadata": {},
   "outputs": [
    {
     "name": "stdout",
     "output_type": "stream",
     "text": [
      "Number of Bone Loss labels: 2097\n",
      "Number of Dental Caries labels: 1219\n"
     ]
    }
   ],
   "source": [
    "# class numbers for bone loss\n",
    "bonelossCLSS = [5,6]\n",
    "# class numbers for dental caries\n",
    "cariesCLSS = [0,1,2,3,4,7,8,9,10]\n",
    "\n",
    "#directory for the labels\n",
    "direct = 'C:\\\\Users\\\\rb01243\\\\OneDrive - University of Surrey\\\\Documents\\\\GitHub\\\\dental_disease\\\\notebooks\\\\datasets\\\\refined_dental_data\\\\labels'\n",
    "direct2 = direct+'\\\\..'\n",
    "try:\n",
    "    os.mkdir(direct+'\\\\..'+'\\\\labels2')\n",
    "    \n",
    "    # use this for pre determined train test val format\n",
    "    #os.mkdir(direct+'\\\\..'+'\\\\labels2'+'\\\\train')\n",
    "    #os.mkdir(direct+'\\\\..'+'\\\\labels2'+'\\\\test')\n",
    "    #os.mkdir(direct+'\\\\..'+'\\\\labels2'+'\\\\val')\n",
    "except:\n",
    "    print('directory already exists')\n",
    "\n",
    "countBL, countDC = 0, 0\n",
    "for root, subdirectories, files in os.walk(direct):\n",
    "    #print(files)\n",
    "    for text in files:\n",
    "        f = open(root+ '\\\\' +text, \"r\")\n",
    "        clss, x, y, w, h = [],[],[],[],[]\n",
    "        for lines in f.readlines():\n",
    "            spltLines = lines.split()\n",
    "            spltItems = int(spltLines[0])\n",
    "            if spltItems in bonelossCLSS:\n",
    "                clss.append(0)\n",
    "                countBL += 1 \n",
    "            elif spltItems in cariesCLSS:\n",
    "                clss.append(1)\n",
    "                countDC += 1\n",
    "            x.append(float(spltLines[1]))\n",
    "            y.append(float(spltLines[2]))\n",
    "            w.append(float(spltLines[3]))\n",
    "            h.append(float(spltLines[4]))\n",
    "        newLabels = pd.DataFrame({'label':clss, 'xCord':x, 'yCord':y, 'width':w, 'height':h})\n",
    "        \n",
    "        np.savetxt(direct+'\\\\..'+'\\\\labels2'+'\\\\'+text , newLabels.values, fmt='%i %1.10f %1.10f %1.10f %1.10f')\n",
    "        # use this for pre determined train test val format instead of above line\n",
    "        #np.savetxt(direct+'\\\\..'+'\\\\labels2'+'\\\\'+(root.split('\\\\')[-1])+'\\\\'+text , newLabels.values, fmt='%i %1.10f %1.10f %1.10f %1.10f')\n",
    "        f.close()\n",
    "        \n",
    "print('Number of Bone Loss labels: ' + str(countBL))\n",
    "print('Number of Dental Caries labels: ' + str(countDC))"
   ]
  },
  {
   "cell_type": "code",
   "execution_count": null,
   "id": "2faa6d74-fc37-416c-9353-eaafc82e4956",
   "metadata": {},
   "outputs": [],
   "source": []
  }
 ],
 "metadata": {
  "kernelspec": {
   "display_name": "Python 3 (ipykernel)",
   "language": "python",
   "name": "python3"
  },
  "language_info": {
   "codemirror_mode": {
    "name": "ipython",
    "version": 3
   },
   "file_extension": ".py",
   "mimetype": "text/x-python",
   "name": "python",
   "nbconvert_exporter": "python",
   "pygments_lexer": "ipython3",
   "version": "3.9.7"
  }
 },
 "nbformat": 4,
 "nbformat_minor": 5
}
