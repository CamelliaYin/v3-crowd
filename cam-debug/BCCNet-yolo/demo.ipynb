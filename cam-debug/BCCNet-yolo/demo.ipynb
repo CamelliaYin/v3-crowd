{
 "cells": [
  {
   "cell_type": "markdown",
   "metadata": {},
   "source": [
    "# BCCNet demo on MNIST"
   ]
  },
  {
   "cell_type": "markdown",
   "metadata": {},
   "source": [
    "This script demonstrates BCCNet in action on classification of MNIST\n",
    "\n",
    "* first generates synthetic crowdsourced labels for MNIST. Only 50% of training data is labelled by 4 crowd members with the average reliability of 0.6\n",
    "* iterates one call of the VB_iteration function and one epoch of backpropagated updates for the parameters of a neural network\n",
    "* saves weights of the trained neural network\n",
    "* plots accuracy performance "
   ]
  },
  {
   "cell_type": "markdown",
   "metadata": {},
   "source": [
    "Required import"
   ]
  },
  {
   "cell_type": "code",
   "execution_count": 1,
   "metadata": {},
   "outputs": [],
   "source": [
    "%matplotlib inline"
   ]
  },
  {
   "cell_type": "code",
   "execution_count": 2,
   "metadata": {
    "scrolled": false
   },
   "outputs": [],
   "source": [
    "import tensorflow as tf\n",
    "import os\n",
    "import numpy as np\n",
    "import matplotlib.pyplot as plt\n",
    "\n",
    "from NNArchitecture.lenet5_mnist import cnn_for_mnist\n",
    "from SyntheticCrowdsourcing.synthetic_crowd_volunteers import generate_volunteer_labels\n",
    "from VariationalInference.VB_iteration import VB_iteration\n",
    "from utils.utils_dataset_processing import shrink_arrays\n",
    "from VariationalInference import confusion_matrix"
   ]
  },
  {
   "cell_type": "markdown",
   "metadata": {},
   "source": [
    "Set random seed"
   ]
  },
  {
   "cell_type": "code",
   "execution_count": 3,
   "metadata": {},
   "outputs": [],
   "source": [
    "rseed = 1000\n",
    "np.random.seed(rseed)\n",
    "# tf.set_random_seed(rseed)\n",
    "tf.random.set_seed(rseed)"
   ]
  },
  {
   "cell_type": "markdown",
   "metadata": {},
   "source": [
    "Parameters"
   ]
  },
  {
   "cell_type": "code",
   "execution_count": 4,
   "metadata": {},
   "outputs": [],
   "source": [
    "n_classes = 10\n",
    "crowdsourced_labelled_train_data_ratio = 0.5 # ratio of train data labelled by crowd members\n",
    "n_crowd_members = 4\n",
    "crowd_member_reliability_level = 0.6\n",
    "confusion_matrix_diagonal_prior = 1e-1\n",
    "n_epoch = 100\n",
    "batch_size = 32\n",
    "convergence_threshold = 1e-6 # convergence is measured as change in ELBO"
   ]
  },
  {
   "cell_type": "markdown",
   "metadata": {},
   "source": [
    "## Load data"
   ]
  },
  {
   "cell_type": "code",
   "execution_count": 5,
   "metadata": {},
   "outputs": [
    {
     "name": "stdout",
     "output_type": "stream",
     "text": [
      "(60000, 28, 28)\n",
      "(10000, 28, 28)\n",
      "(60000,)\n"
     ]
    }
   ],
   "source": [
    "(x_train, y_train), (x_test, y_test) = tf.keras.datasets.mnist.load_data(path=os.getcwd() + '/mnist.npz')\n",
    "\n",
    "print(x_train.shape) # 6000 for training\n",
    "print(x_test.shape)  # 1000 for testing\n",
    "print(y_train.shape)"
   ]
  },
  {
   "cell_type": "markdown",
   "metadata": {},
   "source": [
    "Expand dimensions for images to explicitly have 1 channel"
   ]
  },
  {
   "cell_type": "code",
   "execution_count": 6,
   "metadata": {},
   "outputs": [
    {
     "name": "stdout",
     "output_type": "stream",
     "text": [
      "(60000, 28, 28, 1)\n",
      "(10000, 28, 28, 1)\n"
     ]
    }
   ],
   "source": [
    "x_train = np.expand_dims(x_train, axis=3)\n",
    "x_test = np.expand_dims(x_test, axis=3)\n",
    "\n",
    "print(x_train.shape) # why change in shape?\n",
    "print(x_test.shape)"
   ]
  },
  {
   "cell_type": "markdown",
   "metadata": {},
   "source": [
    "Select subsample of train data to be \"labelled\" by crowd members"
   ]
  },
  {
   "cell_type": "code",
   "execution_count": 7,
   "metadata": {},
   "outputs": [],
   "source": [
    "labelled_train, whole_train = shrink_arrays([x_train, y_train], \n",
    "                                            crowdsourced_labelled_train_data_ratio, is_shuffle=True)\n",
    "x_labelled_train = labelled_train[0]\n",
    "y_labelled_train = labelled_train[1]\n",
    "x_train = whole_train[0]\n",
    "y_train = whole_train[1]"
   ]
  },
  {
   "cell_type": "code",
   "execution_count": 8,
   "metadata": {},
   "outputs": [
    {
     "name": "stdout",
     "output_type": "stream",
     "text": [
      "(30000, 28, 28, 1)\n",
      "(30000,)\n",
      "(60000, 28, 28, 1)\n"
     ]
    }
   ],
   "source": [
    "print(x_labelled_train.shape)\n",
    "print(y_labelled_train.shape)\n",
    "print(x_train.shape)"
   ]
  },
  {
   "cell_type": "markdown",
   "metadata": {},
   "source": [
    "## Generate synthetic crowdsourced labels"
   ]
  },
  {
   "cell_type": "code",
   "execution_count": 9,
   "metadata": {},
   "outputs": [],
   "source": [
    "crowdsourced_labels = generate_volunteer_labels(n_volunteers=n_crowd_members, n_classes=n_classes, \n",
    "                                                gt_labels=y_labelled_train,\n",
    "                                                n_total_tasks=x_train.shape[0],\n",
    "                                                reliability_level=crowd_member_reliability_level)\n",
    "\n",
    "# reliability_level: at average, diagonal elements of the confusion matrices for each crowd member (float)\n",
    "\n",
    "# :return: labels - np.array(n_total_tasks, n_volunteers) is numpy nd-array of \n",
    "# the size: number of tasks n_total_tasks, number of crowd members n_volunteers, where \n",
    "# labels[i, j] is an answer for task i by volunteer j.\n",
    "    \n",
    "# If there is no answer, labels[i, j] = -1. \n",
    "\n",
    "# Data points for which there is no labels from any of crowd members (if n_total_tasks > gt_labels.shape[0]) are concatenated to the end."
   ]
  },
  {
   "cell_type": "markdown",
   "metadata": {},
   "source": [
    "## Set up a neural network and variational parameters"
   ]
  },
  {
   "cell_type": "code",
   "execution_count": 10,
   "metadata": {},
   "outputs": [],
   "source": [
    "cnn_model = cnn_for_mnist()"
   ]
  },
  {
   "cell_type": "code",
   "execution_count": 11,
   "metadata": {},
   "outputs": [],
   "source": [
    "prior_param_confusion_matrices = confusion_matrix.initialise_prior(n_classes=n_classes, n_volunteers=n_crowd_members,\n",
    "                                                                   alpha_diag_prior=confusion_matrix_diagonal_prior)\n",
    "variational_param_confusion_matrices = np.copy(prior_param_confusion_matrices)"
   ]
  },
  {
   "cell_type": "markdown",
   "metadata": {},
   "source": [
    "## Initialisation of the approximating posterior of true labels"
   ]
  },
  {
   "cell_type": "markdown",
   "metadata": {},
   "source": [
    "Initial variational inference iteration"
   ]
  },
  {
   "cell_type": "code",
   "execution_count": 12,
   "metadata": {},
   "outputs": [],
   "source": [
    "initial_nn_output_for_vb_update = np.random.randn(x_train.shape[0], n_classes)\n",
    "\n",
    "q_t, variational_param_confusion_matrices, lower_bound = \\\n",
    "    VB_iteration(crowdsourced_labels, initial_nn_output_for_vb_update, variational_param_confusion_matrices,\n",
    "                 prior_param_confusion_matrices)\n",
    "\n",
    "old_lower_bound = lower_bound"
   ]
  },
  {
   "cell_type": "markdown",
   "metadata": {},
   "source": [
    "## Main training cycle"
   ]
  },
  {
   "cell_type": "markdown",
   "metadata": {},
   "source": [
    "Set up evaluation arrays"
   ]
  },
  {
   "cell_type": "code",
   "execution_count": 13,
   "metadata": {},
   "outputs": [],
   "source": [
    "# based on predictions from the neural network\n",
    "nn_training_accuracy = np.zeros((n_epoch,), dtype=np.float64)   \n",
    "# based on approximated posterior for true labels\n",
    "posterior_estimate_training_accuracy = np.zeros((n_epoch,), dtype=np.float64)  \n",
    "# based on predictions from the neural network on test data\n",
    "nn_test_accuracy = np.zeros((n_epoch,), dtype=np.float64)"
   ]
  },
  {
   "cell_type": "markdown",
   "metadata": {},
   "source": [
    "Training cycle"
   ]
  },
  {
   "cell_type": "code",
   "execution_count": null,
   "metadata": {},
   "outputs": [
    {
     "name": "stdout",
     "output_type": "stream",
     "text": [
      "epoch 0:\n",
      "\t nn training accuracy: 0.0982\n",
      "\t posterior estimate training accuracy: 0.43145\n",
      "\t nn test accuracy: 0.0989\n",
      "epoch 1:\n"
     ]
    }
   ],
   "source": [
    "for epoch in range(n_epoch):\n",
    "    print(f'epoch {epoch}:')\n",
    "\n",
    "    # update of parameters of the neural network\n",
    "    cnn_model.fit(x_train, q_t, epochs=1, shuffle=True, batch_size=batch_size, verbose=0)\n",
    "\n",
    "    # update of approximating posterior for the true labels and confusion matrices\n",
    "    # get current predictions from a neural network\n",
    "    nn_output_for_vb_update = cnn_model.predict(x_train)\n",
    "    # for numerical stability\n",
    "    nn_output_for_vb_update = nn_output_for_vb_update - \\\n",
    "        np.tile(np.expand_dims(np.max(nn_output_for_vb_update, axis=1), axis=1), \n",
    "                (1, nn_output_for_vb_update.shape[1]))\n",
    "\n",
    "    q_t, variational_param_confusion_matrices, lower_bound = \\\n",
    "        VB_iteration(crowdsourced_labels, nn_output_for_vb_update, variational_param_confusion_matrices,\n",
    "                     prior_param_confusion_matrices)\n",
    "\n",
    "    # evaluation\n",
    "    nn_training_accuracy[epoch] = np.mean(np.argmax(nn_output_for_vb_update, axis=1) == y_train)\n",
    "    print(f'\\t nn training accuracy: {nn_training_accuracy[epoch]}')\n",
    "\n",
    "    posterior_estimate_training_accuracy[epoch] = np.mean(np.argmax(q_t, axis=1) == y_train)\n",
    "    print(f'\\t posterior estimate training accuracy: {posterior_estimate_training_accuracy[epoch]}')\n",
    "\n",
    "    nn_test_prediction = cnn_model.predict(x_test)\n",
    "    nn_test_accuracy[epoch] = np.mean(np.argmax(nn_test_prediction, axis=1) == y_test)\n",
    "    print(f'\\t nn test accuracy: {nn_test_accuracy[epoch]}')\n",
    "\n",
    "    # check convergence\n",
    "    if np.abs((lower_bound - old_lower_bound) / old_lower_bound) < convergence_threshold:\n",
    "        break\n",
    "\n",
    "    old_lower_bound = lower_bound"
   ]
  },
  {
   "cell_type": "markdown",
   "metadata": {},
   "source": [
    "## Output"
   ]
  },
  {
   "cell_type": "markdown",
   "metadata": {},
   "source": [
    "Save weights"
   ]
  },
  {
   "cell_type": "code",
   "execution_count": 55,
   "metadata": {},
   "outputs": [],
   "source": [
    "cnn_model.save_weights(os.getcwd() + '/trained_weights')"
   ]
  },
  {
   "cell_type": "markdown",
   "metadata": {},
   "source": [
    "Plot accuracy performance"
   ]
  },
  {
   "cell_type": "code",
   "execution_count": 56,
   "metadata": {},
   "outputs": [
    {
     "data": {
      "image/png": "[encoded data removed]",
      "text/plain": [
       "<Figure size 432x288 with 1 Axes>"
      ]
     },
     "metadata": {
      "needs_background": "light"
     },
     "output_type": "display_data"
    }
   ],
   "source": [
    "plt.plot(range(epoch), nn_training_accuracy[:epoch], label='nn train')\n",
    "plt.plot(range(epoch), posterior_estimate_training_accuracy[:epoch], label='posterior train')\n",
    "plt.plot(range(epoch), nn_test_accuracy[:epoch], label='nn test')\n",
    "plt.legend()\n",
    "plt.show()"
   ]
  },
  {
   "cell_type": "code",
   "execution_count": null,
   "metadata": {},
   "outputs": [],
   "source": []
  }
 ],
 "metadata": {
  "kernelspec": {
   "display_name": "Python 3",
   "language": "python",
   "name": "python3"
  },
  "language_info": {
   "codemirror_mode": {
    "name": "ipython",
    "version": 3
   },
   "file_extension": ".py",
   "mimetype": "text/x-python",
   "name": "python",
   "nbconvert_exporter": "python",
   "pygments_lexer": "ipython3",
   "version": "3.8.3"
  }
 },
 "nbformat": 4,
 "nbformat_minor": 2
}
