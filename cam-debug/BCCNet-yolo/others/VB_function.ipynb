{
 "cells": [
  {
   "cell_type": "markdown",
   "metadata": {},
   "source": [
    "# Units to Unify\n",
    "\n",
    "As I want to make sure each functions is producing something that I am looking for, the idea is to break from big to small to the unbreakbale parts. \n",
    "\n",
    "We starts from the input, I will make up some fake data in correct dimension, to start with:\n",
    "\n",
    "## Input\n",
    "\n",
    "### Volunteers' answer\n",
    "\n",
    "what is q(t) looks like after computation? I need to make sure that this dim matches the y_train for yolo. \n",
    "but is this a right thing to do?\n",
    "how about I check the y_train for lenet5 first, then check q(t), see how the original bcc works, then decide what to do. \n"
   ]
  },
  {
   "cell_type": "code",
   "execution_count": 3,
   "metadata": {},
   "outputs": [],
   "source": [
    "# confusion_matrix.py \n",
    "\n",
    "import numpy as np\n",
    "\n",
    "def initialise_prior(n_classes, n_volunteers, alpha_diag_prior):\n",
    "    \"\"\"\n",
    "    Create confusion matrix prior for every volunteer - the same prior for each volunteer\n",
    "    :param n_classes: number of classes (int)\n",
    "    :param n_volunteers: number of crowd members (int)\n",
    "    :param alpha_diag_prior: prior for confusion matrices is assuming reasonable crowd members with weak dominance of a\n",
    "    diagonal elements of confusion matrices, i.e. prior for a confusion matrix is a matrix of all ones where\n",
    "    alpha_diag_prior is added to diagonal elements (float)\n",
    "    :return: numpy nd-array of the size (n_classes, n_classes, n_volunteers)\n",
    "    \"\"\"\n",
    "    alpha_volunteer_template = np.ones((n_classes, n_classes), dtype=np.float64) + alpha_diag_prior * np.eye(n_classes)\n",
    "    return np.tile(np.expand_dims(alpha_volunteer_template, axis=2), (1, 1, n_volunteers))\n",
    "\n"
   ]
  },
  {
   "cell_type": "code",
   "execution_count": 13,
   "metadata": {},
   "outputs": [
    {
     "name": "stdout",
     "output_type": "stream",
     "text": [
      "[[[1.1 1.1 1.1 1.1]\n",
      "  [1.  1.  1.  1. ]]\n",
      "\n",
      " [[1.  1.  1.  1. ]\n",
      "  [1.1 1.1 1.1 1.1]]]\n",
      "(2, 2, 4)\n",
      "3\n",
      "[[1.1 1. ]\n",
      " [1.  1.1]]\n"
     ]
    }
   ],
   "source": [
    "alpha_0 = initialise_prior(2, 4, 0.1)\n",
    "print(alpha_0)\n",
    "print(alpha_0.shape)\n",
    "print(len(alpha_0.shape)) # will be used in defining expected_log_Dirichlet_parameters(param)\n",
    "print(alpha_0[:,:,2]) # all the same for each individual\n",
    "\n",
    "# for each volunteer (in 4), the prior parameters of confusion matrix is the line above\n",
    "\n"
   ]
  },
  {
   "cell_type": "code",
   "execution_count": 11,
   "metadata": {},
   "outputs": [],
   "source": [
    "import scipy.special as ss\n",
    "\n",
    "\n",
    "def expected_log_Dirichlet_parameters(param): #Eq.(16)\n",
    "    # param: alpha_volunteers\n",
    "    size = param.shape\n",
    "    # shape:(J X L X W)\n",
    "\n",
    "    result = np.zeros_like(param)\n",
    "\n",
    "    if len(size) == 1:\n",
    "        result = ss.psi(param) - ss.psi(np.sum(param))\n",
    "        # ss.psi(): The logarithmic derivative of the gamma function evaluated at param\n",
    "    elif len(size) == 2:\n",
    "        result = ss.psi(param) - np.transpose(np.tile(ss.psi(np.sum(param, 1)), (size[1], 1)))\n",
    "    elif len(size) == 3:\n",
    "        for i in range(size[2]): # for each volunteer\n",
    "            result[:, :, i] = ss.psi(param[:, :, i]) - \\\n",
    "                              np.transpose(np.tile(ss.psi(np.sum(param[:, :, i], 1)), (size[1], 1)))\n",
    "    else:\n",
    "        raise Exception('param can have no more than 3 dimensions')\n",
    "\n",
    "    return result\n",
    "\n",
    "ElogPi_volunteer = expected_log_Dirichlet_parameters(alpha_0)\n",
    "\n",
    "# not important comment: the input len(input.shape) = 3 all the time, i dont see why we consider the first two cases.\n",
    "# elif len(size==3), step by step:\n",
    "#  step1 = np.sum(alpha_0[:, :, 0], 1) #summing over row of cm (2,)\n",
    "#  step2 = ss.psi(step1) # digamma function (2,)\n",
    "#  step3 = np.tile(step2, (2,1)) # make the shape of previous to (2,2)\n",
    "#  step4 = ss.psi(alpha_0[:, :, 0]) # digamma each cm input (2,2)\n",
    "#  step4 - np.transpose(step3) # get the result\n"
   ]
  },
  {
   "cell_type": "code",
   "execution_count": 65,
   "metadata": {},
   "outputs": [
    {
     "name": "stdout",
     "output_type": "stream",
     "text": [
      "[[[-0.90909091 -0.90909091 -0.90909091 -0.90909091]\n",
      "  [-1.06255163 -1.06255163 -1.06255163 -1.06255163]]\n",
      "\n",
      " [[-1.06255163 -1.06255163 -1.06255163 -1.06255163]\n",
      "  [-0.90909091 -0.90909091 -0.90909091 -0.90909091]]]\n",
      "(2, 2, 4)\n",
      "[[-0.90909091 -1.06255163]\n",
      " [-1.06255163 -0.90909091]]\n"
     ]
    }
   ],
   "source": [
    "print(ElogPi_volunteer)\n",
    "print(ElogPi_volunteer.shape) # the same shape as alpha_0\n",
    "print(ElogPi_volunteer[:,:,3])"
   ]
  },
  {
   "cell_type": "code",
   "execution_count": null,
   "metadata": {},
   "outputs": [],
   "source": [
    "def expected_true_labels(X, nn_output, ElogPi_volunteer):\n",
    "    N, W = X.shape  # N = Number of subjects, W = Number of volunteers.\n",
    "    J = ElogPi_volunteer.shape[0]  # J = Number of classes\n",
    "    L = ElogPi_volunteer.shape[1] # L = Number of classes used by volunteers\n",
    "### comments: ElogPi_volunteer is the LHS of Eq. (16), the A_ji^(k)\n",
    "    rho = np.copy(nn_output) # N X J logits\n",
    "\n",
    "    for w in range(W):\n",
    "        inds = np.where(X[:, w] > -1) #extract index for filled objects\n",
    "        # the above line can be deleted as once the bbox is drawn, it must comes with a label. i.e. no missing data\n",
    "        # not deleting maybe, keep it incase things went wrong\n",
    "        rho[inds, :] = rho[inds, :] + np.transpose(ElogPi_volunteer[:, np.squeeze(X[inds, w]), w])\n",
    "\n",
    "    rho = rho - np.transpose(np.tile(np.max(rho, 1), (J, 1)))\n",
    "\n",
    "    q_t = np.exp(rho) / np.maximum(1e-60, np.transpose(np.tile(np.sum(np.exp(rho), 1), (J, 1))))\n",
    "    q_t = np.maximum(1e-60, q_t)\n",
    "\n",
    "    Njl = np.zeros((J, L, W), dtype=np.float64)\n",
    "    for w in range(W):\n",
    "        for l in range(L):\n",
    "            inds = np.where(X[:, w] == l)[0]\n",
    "            Njl[:, l, w] = np.sum(q_t[inds, :], 0)\n",
    "\n",
    "    return q_t, Njl, rho\n",
    "\n",
    "\n"
   ]
  },
  {
   "cell_type": "code",
   "execution_count": 66,
   "metadata": {},
   "outputs": [
    {
     "name": "stdout",
     "output_type": "stream",
     "text": [
      "(5, 4)\n",
      "[[ 0  1  1 -1]\n",
      " [ 1  1  0  0]\n",
      " [ 0  1  0  1]\n",
      " [ 0  0  1  1]\n",
      " [ 1  1  1  0]]\n"
     ]
    }
   ],
   "source": [
    "# NxW(5x4) as indiduals answers.\n",
    "v_ans = np.array([[0, 1, 1, -1], [1, 1, 0, 0], [0,1,0,1], [0,0,1,1], [1,1,1,0]])\n",
    "print(v_ans.shape)\n",
    "print(v_ans)\n",
    "\n"
   ]
  },
  {
   "cell_type": "code",
   "execution_count": 43,
   "metadata": {},
   "outputs": [
    {
     "name": "stdout",
     "output_type": "stream",
     "text": [
      "(5, 2)\n"
     ]
    }
   ],
   "source": [
    "# the dim of nn_output is N X J, 5 X 2 \n",
    "fake_nn_output = np.array([[2.8, 7.6], [3.9, 8.3], [7.1,1.1], [6.0,7.2], [3.2,7.2]])\n",
    "print(fake_nn_output.shape)"
   ]
  },
  {
   "cell_type": "code",
   "execution_count": 69,
   "metadata": {
    "scrolled": true
   },
   "outputs": [
    {
     "name": "stdout",
     "output_type": "stream",
     "text": [
      "(array([1, 2, 3, 4]),)\n",
      "[0 1 1 0]\n",
      "[[[ 2.08181818  6.17489673]\n",
      "  [ 4.97489673 -0.71818182]\n",
      "  [ 3.87489673  5.38181818]\n",
      "  [ 1.38181818  5.07489673]]]\n",
      "(1, 4, 2)\n"
     ]
    }
   ],
   "source": [
    "# test me \n",
    "indss = np.where(v_ans[:, 3] > -1)\n",
    "print(indss)\n",
    "check_this = np.squeeze(v_ans[indss, 3])\n",
    "print(check_this)\n",
    "update_rho = fake_nn_output[indss, :] = fake_nn_output[indss, :] + np.transpose(ElogPi_volunteer[:, check_this, 3])\n",
    "print(update_rho)\n",
    "print(update_rho.shape)"
   ]
  },
  {
   "cell_type": "code",
   "execution_count": 71,
   "metadata": {
    "scrolled": true
   },
   "outputs": [
    {
     "name": "stdout",
     "output_type": "stream",
     "text": [
      "(array([0, 1, 2, 3, 4]),)\n",
      "[0 1 0 0 1]\n",
      "[[[ 1.89090909  6.53744837]\n",
      "  [ 1.01926655  5.26580582]\n",
      "  [ 4.06580582 -1.78073345]\n",
      "  [ 2.96580582  4.31926655]\n",
      "  [ 0.31926655  4.16580582]]]\n",
      "(1, 5, 2)\n"
     ]
    }
   ],
   "source": [
    "# test me \n",
    "indsss = np.where(v_ans[:, 0] > -1)\n",
    "print(indsss)\n",
    "check_that = np.squeeze(v_ans[indsss, 0])\n",
    "print(check_that)\n",
    "update_rhoo = fake_nn_output[indsss, :] = fake_nn_output[indsss, :] + np.transpose(ElogPi_volunteer[:, check_that, 0])\n",
    "print(update_rhoo)\n",
    "print(update_rhoo.shape)"
   ]
  },
  {
   "cell_type": "code",
   "execution_count": null,
   "metadata": {},
   "outputs": [],
   "source": [
    "for w in range(W):\n",
    "        inds = np.where(X[:, w] > -1) #extract index for filled objects\n",
    "        # the above line can be deleted as once the bbox is drawn, it must comes with a label. i.e. no missing data\n",
    "        # not deleting maybe, keep it incase things went wrong\n",
    "        rho[inds, :] = rho[inds, :] + np.transpose(ElogPi_volunteer[:, np.squeeze(X[inds, w]), w])\n",
    "        \n",
    "        \n",
    "        "
   ]
  },
  {
   "cell_type": "markdown",
   "metadata": {},
   "source": [
    "okay firstly we figure out how it going to be look like for the original problem\n",
    "then expand the dim for yolo output\n",
    "19*19*(3*(2))\n",
    "\n",
    "now let's assume N=5, we have 5 iamges\n",
    "then we have NxW(5x4) as indiduals answers.\n",
    "\n",
    "we dont care about -1 entries, why? if a bounding box is drawn it must comes with label\n",
    "that is to say: inds = np.where(X[:, w] > -1) can be disabled\n",
    "\n",
    "\n",
    "rho[inds, :] = rho[inds, :] + np.transpose(ElogPi_volunteer[:, np.squeeze(X[inds, w]), w])\n",
    "\n",
    "rho[inds, :] for volunteer 4, there is only four images has answer, the position one is missing, so this firstly take out the (4x2) from nn_output.\n",
    "\n",
    "the answer of the four entries (array([1, 2, 3, 4]),) is [3 1 0 2]. thus,\n",
    "\n"
   ]
  }
 ],
 "metadata": {
  "kernelspec": {
   "display_name": "Python 3",
   "language": "python",
   "name": "python3"
  },
  "language_info": {
   "codemirror_mode": {
    "name": "ipython",
    "version": 3
   },
   "file_extension": ".py",
   "mimetype": "text/x-python",
   "name": "python",
   "nbconvert_exporter": "python",
   "pygments_lexer": "ipython3",
   "version": "3.8.3"
  }
 },
 "nbformat": 4,
 "nbformat_minor": 4
}
