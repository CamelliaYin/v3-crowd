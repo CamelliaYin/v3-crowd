{
 "cells": [
  {
   "cell_type": "markdown",
   "metadata": {},
   "source": [
    "# Code notes for BCCNet\n",
    "\n",
    "source: https://github.com/OlgaIsupova/BCCNet"
   ]
  },
  {
   "cell_type": "markdown",
   "metadata": {},
   "source": [
    "**utils**: https://github.com/OlgaIsupova/BCCNet/blob/master/utils/utils_dataset_processing.py <br><br>\n",
    "Two functions: \n",
    "1. shuffle_arrays(arrays)\n",
    "2. shrink_arrays(arrays, shrink_size, is_shuffle=True)"
   ]
  },
  {
   "cell_type": "code",
   "execution_count": 1,
   "metadata": {},
   "outputs": [],
   "source": [
    "import numpy as np"
   ]
  },
  {
   "cell_type": "code",
   "execution_count": 49,
   "metadata": {},
   "outputs": [],
   "source": [
    "# assume that our data is in 3d, i.e.for each sample we have 2d input.\n",
    "# for instance, (6000,28,28) for MNIST\n",
    "# what the shuffle does is to pick out the rows, and random shuffle those rows\n",
    "\n",
    "def shuffle_arrays(arrays):\n",
    "    #if not arrays:\n",
    "    #    return arrays\n",
    "\n",
    "    size = arrays[0].shape[0]\n",
    "    permutation = np.arange(size)\n",
    "    np.random.shuffle(permutation)\n",
    "    for i, array in enumerate(arrays):\n",
    "        arrays[i] = array[permutation]\n",
    "\n",
    "    return arrays"
   ]
  },
  {
   "cell_type": "code",
   "execution_count": 59,
   "metadata": {
    "scrolled": true
   },
   "outputs": [
    {
     "name": "stdout",
     "output_type": "stream",
     "text": [
      "[[0 0 1 1]\n",
      " [1 1 0 0]\n",
      " [0 0 0 1]\n",
      " [0 0 0 0]]\n",
      "[[0 0 0 1]\n",
      " [0 0 0 0]\n",
      " [0 0 1 1]\n",
      " [1 1 0 0]]\n"
     ]
    }
   ],
   "source": [
    "np.random.seed(100)\n",
    "x = np.random.choice([0,1], size=(6000, 4, 4))\n",
    "print(x[0])\n",
    "print(shuffle_arrays(x)[0])"
   ]
  },
  {
   "cell_type": "code",
   "execution_count": 60,
   "metadata": {},
   "outputs": [],
   "source": [
    "# what we do is shuffle rows like the previous function\n",
    "# then output a tuple which contains partial and whole of the example\n",
    "\n",
    "\n",
    "def shrink_arrays(arrays, shrink_size, is_shuffle=True):\n",
    "    # if shrink_size in [0.0, 1.0] it specifies fraction of the array size to be extracted, if shrink_size is an\n",
    "    # integer it specifies the size of the shrunk arrays\n",
    "\n",
    "    #if not arrays:\n",
    "    #    return arrays\n",
    "\n",
    "    if type(shrink_size) == float or type(shrink_size) == np.float64:\n",
    "        assert(0.0 <= shrink_size <= 1.0)\n",
    "        size = arrays[0].shape[0]\n",
    "        shrunk_array_size = int(round(shrink_size * size))\n",
    "    else:\n",
    "        shrunk_array_size = shrink_size\n",
    "\n",
    "    if is_shuffle:\n",
    "        shuffled_arrays = shuffle_arrays(arrays)\n",
    "    else:\n",
    "        shuffled_arrays = arrays\n",
    "\n",
    "    shrunk_arrays = []\n",
    "    for array in shuffled_arrays:\n",
    "        shrunk_arrays.append(array[:shrunk_array_size])\n",
    "\n",
    "    return shrunk_arrays, shuffled_arrays"
   ]
  },
  {
   "cell_type": "code",
   "execution_count": 64,
   "metadata": {},
   "outputs": [
    {
     "name": "stdout",
     "output_type": "stream",
     "text": [
      "[[0 0 0 0]\n",
      " [1 1 0 0]\n",
      " [0 0 1 1]\n",
      " [0 0 0 1]]\n",
      "[[0 0 1 1]]\n",
      "[[0 0 1 1]\n",
      " [1 1 0 0]\n",
      " [0 0 0 1]\n",
      " [0 0 0 0]]\n"
     ]
    }
   ],
   "source": [
    "np.random.seed(100)\n",
    "print(x[0])\n",
    "labelled_train, whole_train = shrink_arrays(x, 0.25) #shrunk_arrays, shuffled_arrays\n",
    "print(labelled_train[0])\n",
    "print(whole_train[0])"
   ]
  },
  {
   "cell_type": "markdown",
   "metadata": {},
   "source": [
    "np function: **numpy.expand_dims()**"
   ]
  },
  {
   "cell_type": "code",
   "execution_count": 79,
   "metadata": {},
   "outputs": [
    {
     "name": "stdout",
     "output_type": "stream",
     "text": [
      "[[0 0 1 1]\n",
      " [1 1 0 0]\n",
      " [0 0 0 1]\n",
      " [0 0 0 0]]\n",
      "[[[0]\n",
      "  [0]\n",
      "  [1]\n",
      "  [1]]\n",
      "\n",
      " [[1]\n",
      "  [1]\n",
      "  [0]\n",
      "  [0]]\n",
      "\n",
      " [[0]\n",
      "  [0]\n",
      "  [0]\n",
      "  [1]]\n",
      "\n",
      " [[0]\n",
      "  [0]\n",
      "  [0]\n",
      "  [0]]]\n",
      "(6000, 4, 4, 1)\n"
     ]
    }
   ],
   "source": [
    "np.random.seed(100)\n",
    "print(x[0])\n",
    "y = np.expand_dims(x, axis=3)\n",
    "print(y[0])\n",
    "print(y.shape)"
   ]
  },
  {
   "cell_type": "code",
   "execution_count": 2,
   "metadata": {},
   "outputs": [
    {
     "name": "stdout",
     "output_type": "stream",
     "text": [
      "[[0.6 0.4]\n",
      " [0.4 0.6]]\n",
      "[[[0.06048922 0.96905084 0.70739406 0.62198313 0.21330623]\n",
      "  [0.93951078 0.03094916 0.29260594 0.37801687 0.78669377]]\n",
      "\n",
      " [[0.03826223 0.85318721 0.47681111 0.63198369 0.97567575]\n",
      "  [0.96173777 0.14681279 0.52318889 0.36801631 0.02432425]]]\n",
      "(2, 2, 5)\n",
      "[[0.96905084 1.        ]\n",
      " [0.85318721 1.        ]]\n"
     ]
    }
   ],
   "source": [
    "n_classes = 2\n",
    "reliability_level = 0.6\n",
    "alpha = (reliability_level - (1 - reliability_level) / (n_classes - 1)) * np.eye(n_classes) + \\\n",
    "            (1 - reliability_level) / (n_classes - 1)\n",
    "print(alpha)\n",
    "\n",
    "confusion_matrices = np.zeros((2, 2, 5), dtype=np.float64)\n",
    "for k in np.arange(5):\n",
    "    for i in np.arange(2):\n",
    "        confusion_matrices[i, :, k] = np.random.dirichlet(alpha[i, :])\n",
    "print(confusion_matrices)\n",
    "print(confusion_matrices.shape)\n",
    "\n",
    "\n",
    "x = np.cumsum(confusion_matrices[:, :, 1], axis=1)\n",
    "print(x)\n",
    "\n"
   ]
  },
  {
   "cell_type": "code",
   "execution_count": null,
   "metadata": {},
   "outputs": [],
   "source": [
    "# we have cm with shape (2,2,5) named as: confusion_matrices\n"
   ]
  },
  {
   "cell_type": "code",
   "execution_count": null,
   "metadata": {},
   "outputs": [],
   "source": []
  },
  {
   "cell_type": "code",
   "execution_count": 7,
   "metadata": {},
   "outputs": [
    {
     "name": "stdout",
     "output_type": "stream",
     "text": [
      "[[1 1 1 0 1]\n",
      " [1 1 1 1 0]\n",
      " [1 1 0 1 1]\n",
      " [0 1 1 1 1]\n",
      " [1 1 1 0 0]\n",
      " [0 0 1 1 0]\n",
      " [1 1 0 0 1]\n",
      " [1 1 1 1 1]\n",
      " [1 0 0 1 1]\n",
      " [1 1 1 0 1]]\n",
      "[[0.21465633]\n",
      " [0.41011371]\n",
      " [0.55321564]\n",
      " [0.95173549]\n",
      " [0.87471379]\n",
      " [0.85582064]\n",
      " [0.75820016]\n",
      " [0.89383032]\n",
      " [0.68797276]\n",
      " [0.87556469]]\n"
     ]
    }
   ],
   "source": [
    "x = np.random.binomial(1, 0.8, (10, 5))\n",
    "print(x)\n",
    "\n",
    "y = np.random.rand(10,1)\n",
    "print(y)\n"
   ]
  },
  {
   "cell_type": "code",
   "execution_count": 3,
   "metadata": {},
   "outputs": [],
   "source": [
    "import scipy.special as ss\n",
    "def expected_log_Dirichlet_parameters(param):\n",
    "    size = param.shape\n",
    "    result = np.zeros_like(param)\n",
    "\n",
    "    if len(size) == 1:\n",
    "        result = ss.psi(param) - ss.psi(np.sum(param))\n",
    "    elif len(size) == 2: # when we take A_0 for everyone\n",
    "        result = ss.psi(param) - np.transpose(np.tile(ss.psi(np.sum(param, 1)), (size[1], 1)))\n",
    "    elif len(size) == 3: # most of time for posterior cm\n",
    "        for i in range(size[2]):\n",
    "            result[:, :, i] = ss.psi(param[:, :, i]) - \\\n",
    "                              np.transpose(np.tile(ss.psi(np.sum(param[:, :, i], 1)), (size[1], 1)))\n",
    "    else:\n",
    "        raise Exception('param can have no more than 3 dimensions')\n",
    "\n",
    "    return result"
   ]
  },
  {
   "cell_type": "code",
   "execution_count": 4,
   "metadata": {},
   "outputs": [
    {
     "name": "stdout",
     "output_type": "stream",
     "text": [
      "(2, 2, 5)\n",
      "[[[-1.64365426e+01 -5.20937773e-02 -6.22026934e-01 -8.85794555e-01\n",
      "   -4.38318547e+00]\n",
      "  [-1.04153344e-01 -3.22612700e+01 -3.01796054e+00 -2.15233632e+00\n",
      "   -4.18788551e-01]]\n",
      "\n",
      " [[-2.60741958e+01 -2.71394344e-01 -1.50546374e+00 -8.51954300e-01\n",
      "   -4.07389547e-02]\n",
      "  [-6.47615937e-02 -6.59280359e+00 -1.27619286e+00 -2.23475048e+00\n",
      "   -4.10719223e+01]]]\n"
     ]
    }
   ],
   "source": [
    "Elog = expected_log_Dirichlet_parameters(confusion_matrices)\n",
    "print(Elog.shape)\n",
    "print(Elog)\n",
    "\n",
    "# Elog set up ready to use\n",
    "\n"
   ]
  },
  {
   "cell_type": "code",
   "execution_count": 5,
   "metadata": {},
   "outputs": [
    {
     "name": "stdout",
     "output_type": "stream",
     "text": [
      "(3, 60, 5)\n"
     ]
    }
   ],
   "source": [
    "import random\n",
    "x = np.arange(100)\n",
    "for i, j in enumerate(x):\n",
    "    x[i] = 1\n",
    "\n",
    "y = np.arange(100)\n",
    "for i, j in enumerate(y):\n",
    "    y[i] = 0\n",
    "\n",
    "z = np.arange(700)\n",
    "for i, j in enumerate(z):\n",
    "    z[i] = -1\n",
    "\n",
    "\n",
    "p = np.append(x,y)\n",
    "q = np.append(p,z)\n",
    "\n",
    "q = q.reshape((3,60,5))\n",
    "#I=3, U=60(20x3), K=5\n",
    "\n",
    "np.random.seed(8)\n",
    "np.random.shuffle(q) # the input X, the labels from 5 volunteers towards 3 images, with total 60 anchor boxes \n",
    "\n",
    "I, U, K = q.shape\n",
    "print(q.shape)\n",
    "\n"
   ]
  },
  {
   "cell_type": "code",
   "execution_count": 6,
   "metadata": {},
   "outputs": [
    {
     "ename": "NameError",
     "evalue": "name 'rho' is not defined",
     "output_type": "error",
     "traceback": [
      "\u001b[0;31m---------------------------------------------------------------------------\u001b[0m",
      "\u001b[0;31mNameError\u001b[0m                                 Traceback (most recent call last)",
      "\u001b[0;32m<ipython-input-6-a5591e5a590e>\u001b[0m in \u001b[0;36m<module>\u001b[0;34m\u001b[0m\n\u001b[1;32m      1\u001b[0m \u001b[0;32mfor\u001b[0m \u001b[0mk\u001b[0m \u001b[0;32min\u001b[0m \u001b[0mrange\u001b[0m\u001b[0;34m(\u001b[0m\u001b[0mK\u001b[0m\u001b[0;34m)\u001b[0m\u001b[0;34m:\u001b[0m\u001b[0;34m\u001b[0m\u001b[0;34m\u001b[0m\u001b[0m\n\u001b[1;32m      2\u001b[0m         \u001b[0minds\u001b[0m \u001b[0;34m=\u001b[0m \u001b[0mnp\u001b[0m\u001b[0;34m.\u001b[0m\u001b[0mwhere\u001b[0m\u001b[0;34m(\u001b[0m\u001b[0mq\u001b[0m\u001b[0;34m[\u001b[0m\u001b[0;34m:\u001b[0m\u001b[0;34m,\u001b[0m\u001b[0;34m:\u001b[0m\u001b[0;34m,\u001b[0m \u001b[0mk\u001b[0m\u001b[0;34m]\u001b[0m \u001b[0;34m>\u001b[0m \u001b[0;34m-\u001b[0m\u001b[0;36m1\u001b[0m\u001b[0;34m)\u001b[0m \u001b[0;31m#rule out missing values\u001b[0m\u001b[0;34m\u001b[0m\u001b[0;34m\u001b[0m\u001b[0m\n\u001b[0;32m----> 3\u001b[0;31m         \u001b[0mrho\u001b[0m\u001b[0;34m[\u001b[0m\u001b[0minds\u001b[0m\u001b[0;34m[\u001b[0m\u001b[0;36m0\u001b[0m\u001b[0;34m]\u001b[0m\u001b[0;34m,\u001b[0m\u001b[0minds\u001b[0m\u001b[0;34m[\u001b[0m\u001b[0;36m1\u001b[0m\u001b[0;34m]\u001b[0m\u001b[0;34m,\u001b[0m \u001b[0;34m:\u001b[0m\u001b[0;34m]\u001b[0m \u001b[0;34m=\u001b[0m \u001b[0mrho\u001b[0m\u001b[0;34m[\u001b[0m\u001b[0minds\u001b[0m\u001b[0;34m[\u001b[0m\u001b[0;36m0\u001b[0m\u001b[0;34m]\u001b[0m\u001b[0;34m,\u001b[0m\u001b[0minds\u001b[0m\u001b[0;34m[\u001b[0m\u001b[0;36m1\u001b[0m\u001b[0;34m]\u001b[0m\u001b[0;34m,\u001b[0m \u001b[0;34m:\u001b[0m\u001b[0;34m]\u001b[0m \u001b[0;34m+\u001b[0m \u001b[0mnp\u001b[0m\u001b[0;34m.\u001b[0m\u001b[0mtranspose\u001b[0m\u001b[0;34m(\u001b[0m\u001b[0mElog\u001b[0m\u001b[0;34m[\u001b[0m\u001b[0;34m:\u001b[0m\u001b[0;34m,\u001b[0m \u001b[0mnp\u001b[0m\u001b[0;34m.\u001b[0m\u001b[0msqueeze\u001b[0m\u001b[0;34m(\u001b[0m\u001b[0mq\u001b[0m\u001b[0;34m[\u001b[0m\u001b[0minds\u001b[0m\u001b[0;34m[\u001b[0m\u001b[0;36m0\u001b[0m\u001b[0;34m]\u001b[0m\u001b[0;34m,\u001b[0m\u001b[0minds\u001b[0m\u001b[0;34m[\u001b[0m\u001b[0;36m1\u001b[0m\u001b[0;34m]\u001b[0m\u001b[0;34m,\u001b[0m \u001b[0mk\u001b[0m\u001b[0;34m]\u001b[0m\u001b[0;34m)\u001b[0m\u001b[0;34m,\u001b[0m \u001b[0mk\u001b[0m\u001b[0;34m]\u001b[0m\u001b[0;34m)\u001b[0m\u001b[0;34m\u001b[0m\u001b[0;34m\u001b[0m\u001b[0m\n\u001b[0m\u001b[1;32m      4\u001b[0m \u001b[0mprint\u001b[0m\u001b[0;34m(\u001b[0m\u001b[0mrho\u001b[0m\u001b[0;34m.\u001b[0m\u001b[0mshape\u001b[0m\u001b[0;34m)\u001b[0m\u001b[0;34m\u001b[0m\u001b[0;34m\u001b[0m\u001b[0m\n",
      "\u001b[0;31mNameError\u001b[0m: name 'rho' is not defined"
     ]
    }
   ],
   "source": [
    "for k in range(K):\n",
    "        inds = np.where(q[:,:, k] > -1) #rule out missing values\n",
    "        rho[inds[0],inds[1], :] = rho[inds[0],inds[1], :] + np.transpose(Elog[:, np.squeeze(q[inds[0],inds[1], k]), k])\n",
    "print(rho.shape)\n"
   ]
  },
  {
   "cell_type": "code",
   "execution_count": 60,
   "metadata": {},
   "outputs": [
    {
     "name": "stdout",
     "output_type": "stream",
     "text": [
      "[[[ 0  1  2  3]\n",
      "  [ 4  5  6  7]\n",
      "  [ 8  9 10 11]]\n",
      "\n",
      " [[12 13 14 15]\n",
      "  [16 17 18 19]\n",
      "  [20 21 22 23]]]\n",
      "(2, 3)\n",
      "[[ 3  7 11]\n",
      " [15 19 23]]\n",
      "(4, 3, 2)\n",
      "[[[ 3 15]\n",
      "  [ 7 19]\n",
      "  [11 23]]\n",
      "\n",
      " [[ 3 15]\n",
      "  [ 7 19]\n",
      "  [11 23]]\n",
      "\n",
      " [[ 3 15]\n",
      "  [ 7 19]\n",
      "  [11 23]]\n",
      "\n",
      " [[ 3 15]\n",
      "  [ 7 19]\n",
      "  [11 23]]]\n",
      "[[[-3 -2 -1  0]\n",
      "  [-3 -2 -1  0]\n",
      "  [-3 -2 -1  0]]\n",
      "\n",
      " [[-3 -2 -1  0]\n",
      "  [-3 -2 -1  0]\n",
      "  [-3 -2 -1  0]]]\n",
      "(3, 2, 4)\n"
     ]
    }
   ],
   "source": [
    "# rho = rho - np.transpose(np.tile(np.max(rho, 1), (J, 1)))\n",
    "\n",
    "check1 = np.arange(24).reshape(2,3,4) #i.e. I=2, U=3, M=4\n",
    "print(check1)\n",
    "print(np.max(check1, 2).shape)\n",
    "print(np.max(check1, 2))\n",
    "print(np.tile(np.transpose(np.max(check1, 2)), (4, 1, 1)).shape)\n",
    "print(np.tile(np.transpose(np.max(check1, 2)), (4, 1, 1)))\n",
    "check1 = check1 - np.transpose(np.tile(np.transpose(np.max(check1, 2)), (4, 1, 1)))\n",
    "print(check1)\n",
    "\n",
    "print(np.transpose(np.tile(np.sum(np.exp(check1), 2), (4, 1, 1))).shape)\n",
    "\n"
   ]
  },
  {
   "cell_type": "code",
   "execution_count": 67,
   "metadata": {},
   "outputs": [
    {
     "name": "stdout",
     "output_type": "stream",
     "text": [
      "(2, 3)\n",
      "(2, 3, 4)\n"
     ]
    }
   ],
   "source": [
    "print(np.sum(np.exp(check1), 2).shape)\n",
    "print(np.transpose(np.tile(np.transpose(np.sum(np.exp(check1), 2)),(4, 1, 1))).shape)"
   ]
  },
  {
   "cell_type": "code",
   "execution_count": 64,
   "metadata": {},
   "outputs": [
    {
     "name": "stdout",
     "output_type": "stream",
     "text": [
      "[  31.19287485 1703.07326106]\n",
      "[[  31.19287485   31.19287485   31.19287485   31.19287485]\n",
      " [1703.07326106 1703.07326106 1703.07326106 1703.07326106]]\n",
      "(2, 4)\n"
     ]
    }
   ],
   "source": [
    "check2 = np.arange(8).reshape(2,4) #i.e. I=2, M=4\n",
    "#print(check2)\n",
    "#print(np.max(check2, 1).shape)\n",
    "#print(np.max(check2, 1))\n",
    "#print(np.tile(np.max(check2, 1), (4, 1)).shape)\n",
    "#print(np.tile(np.max(check2, 1), (4, 1)))\n",
    "#print(np.transpose(np.tile(np.max(check2, 1), (4, 1))).shape)\n",
    "\n",
    "print(np.sum(np.exp(check2), 1))\n",
    "\n",
    "print(np.transpose(np.tile(np.sum(np.exp(check2), 1), (4, 1))))\n",
    "print(np.transpose(np.tile(np.sum(np.exp(check2), 1), (4, 1))).shape)"
   ]
  },
  {
   "cell_type": "code",
   "execution_count": 8,
   "metadata": {},
   "outputs": [
    {
     "name": "stdout",
     "output_type": "stream",
     "text": [
      "(array([1, 2]),)\n",
      "[[[0. 0.]\n",
      "  [0. 0.]]]\n",
      "[[-0.10415334 -0.06476159]\n",
      " [-0.10415334 -0.06476159]]\n",
      "(array([0, 1, 2]),)\n",
      "[[[0. 0.]\n",
      "  [0. 0.]\n",
      "  [0. 0.]]]\n",
      "[[ -0.05209378  -0.27139434]\n",
      " [ -0.05209378  -0.27139434]\n",
      " [-32.26127003  -6.59280359]]\n",
      "(array([0, 1, 2]),)\n",
      "[[[0. 0.]\n",
      "  [0. 0.]\n",
      "  [0. 0.]]]\n",
      "[[-3.01796054 -1.27619286]\n",
      " [-3.01796054 -1.27619286]\n",
      " [-3.01796054 -1.27619286]]\n",
      "[[0. 0.]\n",
      " [0. 0.]\n",
      " [0. 0.]]\n"
     ]
    }
   ],
   "source": [
    "x = np.array([[-1, 0, 1], [1, 0, 1],[1, 1, 1]]) # the answer from 3 indiduals, I = 3, W = 3\n",
    "rho = np.zeros((3,2)) # nn_output, are all zeros, in dim I x M\n",
    "for i in range(x.shape[1]):\n",
    "    inds = np.where(x[:, i] > -1)\n",
    "    print(inds)\n",
    "    print(rho[inds, :])\n",
    "    print(np.transpose(Elog[:, np.squeeze(x[inds, i]), i]))\n",
    "    #rho[inds, :] = rho[inds, :] + np.transpose(Elog[:, np.squeeze(x[inds, i]), i])\n",
    "print(rho)   "
   ]
  },
  {
   "cell_type": "code",
   "execution_count": 9,
   "metadata": {},
   "outputs": [
    {
     "ename": "AxisError",
     "evalue": "axis 2 is out of bounds for array of dimension 2",
     "output_type": "error",
     "traceback": [
      "\u001b[0;31m---------------------------------------------------------------------------\u001b[0m",
      "\u001b[0;31mAxisError\u001b[0m                                 Traceback (most recent call last)",
      "\u001b[0;32m<ipython-input-9-aee4eca5298c>\u001b[0m in \u001b[0;36m<module>\u001b[0;34m\u001b[0m\n\u001b[1;32m      1\u001b[0m \u001b[0;31m# x = np.array([[-1, 0, 1], [1, 0, 1],[1, 1, 1]]) # the answer from 3 indiduals, #I=3, U=60(20x3), K=5\u001b[0m\u001b[0;34m\u001b[0m\u001b[0;34m\u001b[0m\u001b[0;34m\u001b[0m\u001b[0m\n\u001b[1;32m      2\u001b[0m \u001b[0;31m# here we have M X N X K\u001b[0m\u001b[0;34m\u001b[0m\u001b[0;34m\u001b[0m\u001b[0;34m\u001b[0m\u001b[0m\n\u001b[0;32m----> 3\u001b[0;31m \u001b[0mrho\u001b[0m \u001b[0;34m=\u001b[0m \u001b[0mrho\u001b[0m \u001b[0;34m-\u001b[0m \u001b[0mnp\u001b[0m\u001b[0;34m.\u001b[0m\u001b[0mtranspose\u001b[0m\u001b[0;34m(\u001b[0m\u001b[0mnp\u001b[0m\u001b[0;34m.\u001b[0m\u001b[0mtile\u001b[0m\u001b[0;34m(\u001b[0m\u001b[0mnp\u001b[0m\u001b[0;34m.\u001b[0m\u001b[0mtranspose\u001b[0m\u001b[0;34m(\u001b[0m\u001b[0mnp\u001b[0m\u001b[0;34m.\u001b[0m\u001b[0mmax\u001b[0m\u001b[0;34m(\u001b[0m\u001b[0mrho\u001b[0m\u001b[0;34m,\u001b[0m \u001b[0;36m2\u001b[0m\u001b[0;34m)\u001b[0m\u001b[0;34m)\u001b[0m\u001b[0;34m,\u001b[0m \u001b[0;34m(\u001b[0m\u001b[0;36m2\u001b[0m\u001b[0;34m,\u001b[0m \u001b[0;36m1\u001b[0m\u001b[0;34m,\u001b[0m \u001b[0;36m1\u001b[0m\u001b[0;34m)\u001b[0m\u001b[0;34m)\u001b[0m\u001b[0;34m)\u001b[0m\u001b[0;34m\u001b[0m\u001b[0;34m\u001b[0m\u001b[0m\n\u001b[0m\u001b[1;32m      4\u001b[0m \u001b[0mq_t\u001b[0m \u001b[0;34m=\u001b[0m \u001b[0mnp\u001b[0m\u001b[0;34m.\u001b[0m\u001b[0mexp\u001b[0m\u001b[0;34m(\u001b[0m\u001b[0mrho\u001b[0m\u001b[0;34m)\u001b[0m \u001b[0;34m/\u001b[0m \u001b[0mnp\u001b[0m\u001b[0;34m.\u001b[0m\u001b[0mmaximum\u001b[0m\u001b[0;34m(\u001b[0m\u001b[0;36m1e-60\u001b[0m\u001b[0;34m,\u001b[0m \u001b[0mnp\u001b[0m\u001b[0;34m.\u001b[0m\u001b[0mtranspose\u001b[0m\u001b[0;34m(\u001b[0m\u001b[0mnp\u001b[0m\u001b[0;34m.\u001b[0m\u001b[0mtile\u001b[0m\u001b[0;34m(\u001b[0m\u001b[0mnp\u001b[0m\u001b[0;34m.\u001b[0m\u001b[0mtranspose\u001b[0m\u001b[0;34m(\u001b[0m\u001b[0mnp\u001b[0m\u001b[0;34m.\u001b[0m\u001b[0msum\u001b[0m\u001b[0;34m(\u001b[0m\u001b[0mnp\u001b[0m\u001b[0;34m.\u001b[0m\u001b[0mexp\u001b[0m\u001b[0;34m(\u001b[0m\u001b[0mrho\u001b[0m\u001b[0;34m)\u001b[0m\u001b[0;34m,\u001b[0m \u001b[0;36m2\u001b[0m\u001b[0;34m)\u001b[0m\u001b[0;34m)\u001b[0m\u001b[0;34m,\u001b[0m \u001b[0;34m(\u001b[0m\u001b[0;36m2\u001b[0m\u001b[0;34m,\u001b[0m \u001b[0;36m1\u001b[0m\u001b[0;34m,\u001b[0m \u001b[0;36m1\u001b[0m\u001b[0;34m)\u001b[0m\u001b[0;34m)\u001b[0m\u001b[0;34m)\u001b[0m\u001b[0;34m)\u001b[0m\u001b[0;34m\u001b[0m\u001b[0;34m\u001b[0m\u001b[0m\n\u001b[1;32m      5\u001b[0m \u001b[0mq_t\u001b[0m \u001b[0;34m=\u001b[0m \u001b[0mnp\u001b[0m\u001b[0;34m.\u001b[0m\u001b[0mmaximum\u001b[0m\u001b[0;34m(\u001b[0m\u001b[0;36m1e-60\u001b[0m\u001b[0;34m,\u001b[0m \u001b[0mq_t\u001b[0m\u001b[0;34m)\u001b[0m\u001b[0;34m\u001b[0m\u001b[0;34m\u001b[0m\u001b[0m\n",
      "\u001b[0;32m<__array_function__ internals>\u001b[0m in \u001b[0;36mamax\u001b[0;34m(*args, **kwargs)\u001b[0m\n",
      "\u001b[0;32m~/.local/lib/python3.8/site-packages/numpy/core/fromnumeric.py\u001b[0m in \u001b[0;36mamax\u001b[0;34m(a, axis, out, keepdims, initial, where)\u001b[0m\n\u001b[1;32m   2752\u001b[0m     \u001b[0;36m5\u001b[0m\u001b[0;34m\u001b[0m\u001b[0;34m\u001b[0m\u001b[0m\n\u001b[1;32m   2753\u001b[0m     \"\"\"\n\u001b[0;32m-> 2754\u001b[0;31m     return _wrapreduction(a, np.maximum, 'max', axis, None, out,\n\u001b[0m\u001b[1;32m   2755\u001b[0m                           keepdims=keepdims, initial=initial, where=where)\n\u001b[1;32m   2756\u001b[0m \u001b[0;34m\u001b[0m\u001b[0m\n",
      "\u001b[0;32m~/.local/lib/python3.8/site-packages/numpy/core/fromnumeric.py\u001b[0m in \u001b[0;36m_wrapreduction\u001b[0;34m(obj, ufunc, method, axis, dtype, out, **kwargs)\u001b[0m\n\u001b[1;32m     84\u001b[0m                 \u001b[0;32mreturn\u001b[0m \u001b[0mreduction\u001b[0m\u001b[0;34m(\u001b[0m\u001b[0maxis\u001b[0m\u001b[0;34m=\u001b[0m\u001b[0maxis\u001b[0m\u001b[0;34m,\u001b[0m \u001b[0mout\u001b[0m\u001b[0;34m=\u001b[0m\u001b[0mout\u001b[0m\u001b[0;34m,\u001b[0m \u001b[0;34m**\u001b[0m\u001b[0mpasskwargs\u001b[0m\u001b[0;34m)\u001b[0m\u001b[0;34m\u001b[0m\u001b[0;34m\u001b[0m\u001b[0m\n\u001b[1;32m     85\u001b[0m \u001b[0;34m\u001b[0m\u001b[0m\n\u001b[0;32m---> 86\u001b[0;31m     \u001b[0;32mreturn\u001b[0m \u001b[0mufunc\u001b[0m\u001b[0;34m.\u001b[0m\u001b[0mreduce\u001b[0m\u001b[0;34m(\u001b[0m\u001b[0mobj\u001b[0m\u001b[0;34m,\u001b[0m \u001b[0maxis\u001b[0m\u001b[0;34m,\u001b[0m \u001b[0mdtype\u001b[0m\u001b[0;34m,\u001b[0m \u001b[0mout\u001b[0m\u001b[0;34m,\u001b[0m \u001b[0;34m**\u001b[0m\u001b[0mpasskwargs\u001b[0m\u001b[0;34m)\u001b[0m\u001b[0;34m\u001b[0m\u001b[0;34m\u001b[0m\u001b[0m\n\u001b[0m\u001b[1;32m     87\u001b[0m \u001b[0;34m\u001b[0m\u001b[0m\n\u001b[1;32m     88\u001b[0m \u001b[0;34m\u001b[0m\u001b[0m\n",
      "\u001b[0;31mAxisError\u001b[0m: axis 2 is out of bounds for array of dimension 2"
     ]
    }
   ],
   "source": [
    "# x = np.array([[-1, 0, 1], [1, 0, 1],[1, 1, 1]]) # the answer from 3 indiduals, #I=3, U=60(20x3), K=5\n",
    "# here we have M X N X K\n",
    "rho = rho - np.transpose(np.tile(np.transpose(np.max(rho, 2)), (2, 1, 1)))\n",
    "q_t = np.exp(rho) / np.maximum(1e-60, np.transpose(np.tile(np.transpose(np.sum(np.exp(rho), 2)), (2, 1, 1))))\n",
    "q_t = np.maximum(1e-60, q_t)\n",
    "print(q_t.shape)\n",
    "\n",
    "M = 2\n",
    "N = 2\n",
    "K = 5\n",
    "F_iu = np.zeros((M, N, K), dtype=np.float64)\n",
    "for k in range(K):\n",
    "    for n in range(N):\n",
    "        inds0 = np.where(q[:, :, k] == n)[0]\n",
    "        inds1 = np.where(q[:, :, k] == n)[1]\n",
    "        F_iu[:, n, k] = np.sum(q_t[inds0, inds1, :], 0)\n",
    "print(F_iu.shape)\n",
    "print(F_iu)\n"
   ]
  },
  {
   "cell_type": "code",
   "execution_count": 137,
   "metadata": {},
   "outputs": [
    {
     "name": "stdout",
     "output_type": "stream",
     "text": [
      "(2, 2, 5)\n"
     ]
    }
   ],
   "source": [
    "alpha0 = np.array([[0.4, 0.6],[0.6, 0.4]])\n",
    "alpha0 = np.transpose(np.tile(alpha0, (5,1,1)))\n",
    "print(alpha0.shape)\n",
    "\n"
   ]
  },
  {
   "cell_type": "code",
   "execution_count": 141,
   "metadata": {},
   "outputs": [],
   "source": [
    "def logB_from_Dirichlet_parameters(alpha): # used to compute loss. ???\n",
    "    logB = np.sum(ss.gammaln(alpha)) - ss.gammaln(np.sum(alpha))\n",
    "\n",
    "    return logB"
   ]
  },
  {
   "cell_type": "code",
   "execution_count": 142,
   "metadata": {},
   "outputs": [],
   "source": [
    "def compute_lower_bound_likelihood(alpha0_volunteers, alpha_volunteers, q_t, rho, nn_output):\n",
    "    K = alpha0_volunteers.shape[2]\n",
    "\n",
    "    ll_pi_worker = 0\n",
    "    for k in range(K):\n",
    "        ll_pi_worker = ll_pi_worker - np.sum(logB_from_Dirichlet_parameters(alpha0_volunteers[:, :, k]) -\n",
    "                                             logB_from_Dirichlet_parameters(alpha_volunteers[:, :, k]))\n",
    "\n",
    "    ll_t = -np.sum(q_t * rho) + np.sum(np.log(np.sum(np.exp(rho), axis=2)))\n",
    "\n",
    "    ll_nn = np.sum(q_t * nn_output) - np.sum(np.log(np.sum(np.exp(nn_output), axis=2)))\n",
    "\n",
    "    ll = ll_pi_worker + ll_t + ll_nn  # VB lower bound\n",
    "\n",
    "    return ll"
   ]
  },
  {
   "cell_type": "code",
   "execution_count": 10,
   "metadata": {},
   "outputs": [
    {
     "ename": "NameError",
     "evalue": "name 'alpha0' is not defined",
     "output_type": "error",
     "traceback": [
      "\u001b[0;31m---------------------------------------------------------------------------\u001b[0m",
      "\u001b[0;31mNameError\u001b[0m                                 Traceback (most recent call last)",
      "\u001b[0;32m<ipython-input-10-7f8147eaddb8>\u001b[0m in \u001b[0;36m<module>\u001b[0;34m\u001b[0m\n\u001b[0;32m----> 1\u001b[0;31m \u001b[0malpha0\u001b[0m \u001b[0;31m#225\u001b[0m\u001b[0;34m\u001b[0m\u001b[0;34m\u001b[0m\u001b[0m\n\u001b[0m\u001b[1;32m      2\u001b[0m \u001b[0malpha1\u001b[0m \u001b[0;34m=\u001b[0m \u001b[0malpha0\u001b[0m\u001b[0;34m\u001b[0m\u001b[0;34m\u001b[0m\u001b[0m\n\u001b[1;32m      3\u001b[0m \u001b[0mq_tt\u001b[0m \u001b[0;34m=\u001b[0m \u001b[0mnp\u001b[0m\u001b[0;34m.\u001b[0m\u001b[0marange\u001b[0m\u001b[0;34m(\u001b[0m\u001b[0;36m360\u001b[0m\u001b[0;34m)\u001b[0m\u001b[0;34m.\u001b[0m\u001b[0mreshape\u001b[0m\u001b[0;34m(\u001b[0m\u001b[0;36m3\u001b[0m\u001b[0;34m,\u001b[0m \u001b[0;36m60\u001b[0m\u001b[0;34m,\u001b[0m \u001b[0;36m2\u001b[0m\u001b[0;34m)\u001b[0m\u001b[0;34m\u001b[0m\u001b[0;34m\u001b[0m\u001b[0m\n\u001b[1;32m      4\u001b[0m \u001b[0mrho\u001b[0m \u001b[0;34m=\u001b[0m \u001b[0mnp\u001b[0m\u001b[0;34m.\u001b[0m\u001b[0marange\u001b[0m\u001b[0;34m(\u001b[0m\u001b[0;36m360\u001b[0m\u001b[0;34m)\u001b[0m\u001b[0;34m.\u001b[0m\u001b[0mreshape\u001b[0m\u001b[0;34m(\u001b[0m\u001b[0;36m3\u001b[0m\u001b[0;34m,\u001b[0m \u001b[0;36m60\u001b[0m\u001b[0;34m,\u001b[0m \u001b[0;36m2\u001b[0m\u001b[0;34m)\u001b[0m\u001b[0;34m\u001b[0m\u001b[0;34m\u001b[0m\u001b[0m\n\u001b[1;32m      5\u001b[0m \u001b[0mnn_output\u001b[0m \u001b[0;34m=\u001b[0m \u001b[0mnp\u001b[0m\u001b[0;34m.\u001b[0m\u001b[0mrandom\u001b[0m\u001b[0;34m.\u001b[0m\u001b[0mrand\u001b[0m\u001b[0;34m(\u001b[0m\u001b[0;36m3\u001b[0m\u001b[0;34m,\u001b[0m \u001b[0;36m60\u001b[0m\u001b[0;34m,\u001b[0m \u001b[0;36m2\u001b[0m\u001b[0;34m)\u001b[0m\u001b[0;34m\u001b[0m\u001b[0;34m\u001b[0m\u001b[0m\n",
      "\u001b[0;31mNameError\u001b[0m: name 'alpha0' is not defined"
     ]
    }
   ],
   "source": [
    "alpha0 #225\n",
    "alpha1 = alpha0\n",
    "q_tt = np.arange(360).reshape(3, 60, 2)\n",
    "rho = np.arange(360).reshape(3, 60, 2)\n",
    "nn_output = np.random.rand(3, 60, 2)\n"
   ]
  },
  {
   "cell_type": "code",
   "execution_count": 145,
   "metadata": {},
   "outputs": [],
   "source": [
    "checkll = compute_lower_bound_likelihood(alpha0, alpha0, q_tt, rho, nn_output)"
   ]
  },
  {
   "cell_type": "code",
   "execution_count": 146,
   "metadata": {},
   "outputs": [
    {
     "data": {
      "text/plain": [
       "-15420699.672973178"
      ]
     },
     "execution_count": 146,
     "metadata": {},
     "output_type": "execute_result"
    }
   ],
   "source": [
    "checkll"
   ]
  },
  {
   "cell_type": "code",
   "execution_count": null,
   "metadata": {},
   "outputs": [],
   "source": []
  }
 ],
 "metadata": {
  "kernelspec": {
   "display_name": "Python 3",
   "language": "python",
   "name": "python3"
  },
  "language_info": {
   "codemirror_mode": {
    "name": "ipython",
    "version": 3
   },
   "file_extension": ".py",
   "mimetype": "text/x-python",
   "name": "python",
   "nbconvert_exporter": "python",
   "pygments_lexer": "ipython3",
   "version": "3.9.6"
  }
 },
 "nbformat": 4,
 "nbformat_minor": 4
}
